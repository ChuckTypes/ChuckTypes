{
 "cells": [
  {
   "cell_type": "markdown",
   "id": "88aabe42",
   "metadata": {
    "papermill": {
     "duration": 0.008219,
     "end_time": "2022-06-28T13:20:19.172885",
     "exception": false,
     "start_time": "2022-06-28T13:20:19.164666",
     "status": "completed"
    },
    "tags": []
   },
   "source": [
    "**This notebook is an exercise in the [Intro to Programming](https://www.kaggle.com/learn/intro-to-programming) course.  You can reference the tutorial at [this link](https://www.kaggle.com/alexisbcook/data-types).**\n",
    "\n",
    "---\n"
   ]
  },
  {
   "cell_type": "markdown",
   "id": "a6dbf887",
   "metadata": {
    "papermill": {
     "duration": 0.006907,
     "end_time": "2022-06-28T13:20:19.187739",
     "exception": false,
     "start_time": "2022-06-28T13:20:19.180832",
     "status": "completed"
    },
    "tags": []
   },
   "source": [
    "In the tutorial, you learned about four different data types: floats, integers, strings, and booleans.  In this exercise, you'll experiment with them.\n",
    "\n",
    "# Set up the notebook\n",
    "\n",
    "Run the next code cell without changes to set up the notebook."
   ]
  },
  {
   "cell_type": "code",
   "execution_count": 1,
   "id": "1bf58494",
   "metadata": {
    "execution": {
     "iopub.execute_input": "2022-06-28T13:20:19.204605Z",
     "iopub.status.busy": "2022-06-28T13:20:19.203447Z",
     "iopub.status.idle": "2022-06-28T13:20:19.256998Z",
     "shell.execute_reply": "2022-06-28T13:20:19.256157Z"
    },
    "papermill": {
     "duration": 0.065608,
     "end_time": "2022-06-28T13:20:19.260378",
     "exception": false,
     "start_time": "2022-06-28T13:20:19.194770",
     "status": "completed"
    },
    "tags": []
   },
   "outputs": [
    {
     "name": "stdout",
     "output_type": "stream",
     "text": [
      "Setup complete.\n"
     ]
    }
   ],
   "source": [
    "# Set up the exercise\n",
    "from learntools.core import binder\n",
    "binder.bind(globals())\n",
    "from learntools.intro_to_programming.ex3 import *\n",
    "print('Setup complete.')"
   ]
  },
  {
   "cell_type": "markdown",
   "id": "e9b360e0",
   "metadata": {
    "papermill": {
     "duration": 0.007075,
     "end_time": "2022-06-28T13:20:19.275895",
     "exception": false,
     "start_time": "2022-06-28T13:20:19.268820",
     "status": "completed"
    },
    "tags": []
   },
   "source": [
    "# Question 1\n",
    "\n",
    "You have seen how to convert a float to an integer with the `int` function.  Try this out yourself by running the code cell below."
   ]
  },
  {
   "cell_type": "code",
   "execution_count": 2,
   "id": "1c30d264",
   "metadata": {
    "execution": {
     "iopub.execute_input": "2022-06-28T13:20:19.292547Z",
     "iopub.status.busy": "2022-06-28T13:20:19.291855Z",
     "iopub.status.idle": "2022-06-28T13:20:19.298728Z",
     "shell.execute_reply": "2022-06-28T13:20:19.296641Z"
    },
    "papermill": {
     "duration": 0.019037,
     "end_time": "2022-06-28T13:20:19.302193",
     "exception": false,
     "start_time": "2022-06-28T13:20:19.283156",
     "status": "completed"
    },
    "tags": []
   },
   "outputs": [
    {
     "name": "stdout",
     "output_type": "stream",
     "text": [
      "1.0\n",
      "<class 'float'>\n",
      "1\n",
      "<class 'int'>\n"
     ]
    }
   ],
   "source": [
    "# Define a float\n",
    "y = 1.\n",
    "print(y)\n",
    "print(type(y))\n",
    "\n",
    "# Convert float to integer with the int function\n",
    "z = int(y)\n",
    "print(z)\n",
    "print(type(z))"
   ]
  },
  {
   "cell_type": "markdown",
   "id": "55cc99e1",
   "metadata": {
    "papermill": {
     "duration": 0.007427,
     "end_time": "2022-06-28T13:20:19.317395",
     "exception": false,
     "start_time": "2022-06-28T13:20:19.309968",
     "status": "completed"
    },
    "tags": []
   },
   "source": [
    "In this case, the float you are using has no numbers after the decimal.  \n",
    "- But what happens when you try to convert a float with a fractional part to an integer?  \n",
    "- How does the outcome of the `int` function change for positive and negative numbers?\n",
    "\n",
    "Use the next code cell to investigate and answer these questions.  Feel free to add or remove any lines of code -- it is your workspace!"
   ]
  },
  {
   "cell_type": "code",
   "execution_count": 3,
   "id": "4300205d",
   "metadata": {
    "execution": {
     "iopub.execute_input": "2022-06-28T13:20:19.334323Z",
     "iopub.status.busy": "2022-06-28T13:20:19.333647Z",
     "iopub.status.idle": "2022-06-28T13:20:19.339569Z",
     "shell.execute_reply": "2022-06-28T13:20:19.338383Z"
    },
    "papermill": {
     "duration": 0.016881,
     "end_time": "2022-06-28T13:20:19.341736",
     "exception": false,
     "start_time": "2022-06-28T13:20:19.324855",
     "status": "completed"
    },
    "tags": []
   },
   "outputs": [
    {
     "name": "stdout",
     "output_type": "stream",
     "text": [
      "1\n",
      "1\n",
      "-3\n",
      "-2\n"
     ]
    }
   ],
   "source": [
    "# Uncomment and run this code to get started!\n",
    "print(int(1.2321))\n",
    "print(int(1.747))\n",
    "print(int(-3.94535))\n",
    "print(int(-2.19774))"
   ]
  },
  {
   "cell_type": "markdown",
   "id": "7a3cf237",
   "metadata": {
    "papermill": {
     "duration": 0.007229,
     "end_time": "2022-06-28T13:20:19.356212",
     "exception": false,
     "start_time": "2022-06-28T13:20:19.348983",
     "status": "completed"
    },
    "tags": []
   },
   "source": [
    "Once you have an answer, run the code cell below to see the solution.  Viewing the solution will give you credit for answering the problem."
   ]
  },
  {
   "cell_type": "code",
   "execution_count": 4,
   "id": "32430e95",
   "metadata": {
    "execution": {
     "iopub.execute_input": "2022-06-28T13:20:19.373113Z",
     "iopub.status.busy": "2022-06-28T13:20:19.372706Z",
     "iopub.status.idle": "2022-06-28T13:20:19.383558Z",
     "shell.execute_reply": "2022-06-28T13:20:19.382690Z"
    },
    "papermill": {
     "duration": 0.021713,
     "end_time": "2022-06-28T13:20:19.385541",
     "exception": false,
     "start_time": "2022-06-28T13:20:19.363828",
     "status": "completed"
    },
    "tags": []
   },
   "outputs": [
    {
     "data": {
      "application/javascript": [
       "parent.postMessage({\"jupyterEvent\": \"custom.exercise_interaction\", \"data\": {\"outcomeType\": 1, \"valueTowardsCompletion\": 0.2, \"interactionType\": 1, \"questionType\": 4, \"questionId\": \"1_FloatToInt\", \"learnToolsVersion\": \"0.3.4\", \"failureMessage\": \"\", \"exceptionClass\": \"\", \"trace\": \"\"}}, \"*\")"
      ],
      "text/plain": [
       "<IPython.core.display.Javascript object>"
      ]
     },
     "metadata": {},
     "output_type": "display_data"
    },
    {
     "data": {
      "text/markdown": [
       "<span style=\"color:#33cc33\">Correct:</span> \n",
       "\n",
       "Negative floats are always rounded UP to the closest integer (for instance, both -1.1 and -1.9 are rounded up to -1). Positive floats are always rounded DOWN to the closest integer (for instance, 2.1 and 2.9 are rounded down to 2)."
      ],
      "text/plain": [
       "Correct: \n",
       "\n",
       "Negative floats are always rounded UP to the closest integer (for instance, both -1.1 and -1.9 are rounded up to -1). Positive floats are always rounded DOWN to the closest integer (for instance, 2.1 and 2.9 are rounded down to 2)."
      ]
     },
     "metadata": {},
     "output_type": "display_data"
    }
   ],
   "source": [
    "# Check your answer (Run this code cell to receive credit!)\n",
    "q1.check()"
   ]
  },
  {
   "cell_type": "markdown",
   "id": "b1a06893",
   "metadata": {
    "papermill": {
     "duration": 0.007606,
     "end_time": "2022-06-28T13:20:19.400772",
     "exception": false,
     "start_time": "2022-06-28T13:20:19.393166",
     "status": "completed"
    },
    "tags": []
   },
   "source": [
    "# Question 2\n",
    "\n",
    "In the tutorial, you learned about booleans (which can take a value of `True` or `False`), in addition to integers, floats, and strings.  For this question, your goal is to determine what happens when you multiply a boolean by any of these data types.  Specifically, \n",
    "- What happens when you multiply an integer or float by `True`?  What happens when you multiply them by `False`?  How does the answer change if the numbers are positive or negative?\n",
    "- What happens when you multiply a string by `True`?  By `False`?\n",
    "\n",
    "Use the next code cell for your investigation. "
   ]
  },
  {
   "cell_type": "code",
   "execution_count": 5,
   "id": "bc0e8015",
   "metadata": {
    "execution": {
     "iopub.execute_input": "2022-06-28T13:20:19.418602Z",
     "iopub.status.busy": "2022-06-28T13:20:19.417705Z",
     "iopub.status.idle": "2022-06-28T13:20:19.423719Z",
     "shell.execute_reply": "2022-06-28T13:20:19.422873Z"
    },
    "papermill": {
     "duration": 0.019051,
     "end_time": "2022-06-28T13:20:19.427584",
     "exception": false,
     "start_time": "2022-06-28T13:20:19.408533",
     "status": "completed"
    },
    "tags": []
   },
   "outputs": [
    {
     "name": "stdout",
     "output_type": "stream",
     "text": [
      "3\n",
      "-3.1\n",
      "<class 'str'>\n",
      "0\n"
     ]
    }
   ],
   "source": [
    "# Uncomment and run this code to get started!\n",
    "print(3 * True)\n",
    "print(-3.1 * True)\n",
    "print(type(\"abc\" * False))\n",
    "print(len(\"abc\" * False))"
   ]
  },
  {
   "cell_type": "markdown",
   "id": "4c0f500f",
   "metadata": {
    "papermill": {
     "duration": 0.007917,
     "end_time": "2022-06-28T13:20:19.444211",
     "exception": false,
     "start_time": "2022-06-28T13:20:19.436294",
     "status": "completed"
    },
    "tags": []
   },
   "source": [
    "Once you have an answer, run the code cell below to see the solution.  Viewing the solution will give you credit for answering the problem."
   ]
  },
  {
   "cell_type": "code",
   "execution_count": 6,
   "id": "64d6214f",
   "metadata": {
    "execution": {
     "iopub.execute_input": "2022-06-28T13:20:19.461724Z",
     "iopub.status.busy": "2022-06-28T13:20:19.460993Z",
     "iopub.status.idle": "2022-06-28T13:20:19.469823Z",
     "shell.execute_reply": "2022-06-28T13:20:19.468813Z"
    },
    "papermill": {
     "duration": 0.019542,
     "end_time": "2022-06-28T13:20:19.471729",
     "exception": false,
     "start_time": "2022-06-28T13:20:19.452187",
     "status": "completed"
    },
    "tags": []
   },
   "outputs": [
    {
     "data": {
      "application/javascript": [
       "parent.postMessage({\"jupyterEvent\": \"custom.exercise_interaction\", \"data\": {\"outcomeType\": 1, \"valueTowardsCompletion\": 0.2, \"interactionType\": 1, \"questionType\": 4, \"questionId\": \"2_MultiplyBooleans\", \"learnToolsVersion\": \"0.3.4\", \"failureMessage\": \"\", \"exceptionClass\": \"\", \"trace\": \"\"}}, \"*\")"
      ],
      "text/plain": [
       "<IPython.core.display.Javascript object>"
      ]
     },
     "metadata": {},
     "output_type": "display_data"
    },
    {
     "data": {
      "text/markdown": [
       "<span style=\"color:#33cc33\">Correct:</span> \n",
       "\n",
       "When you multiple an integer or float by a boolean with value `True`, it just returns that same integer or float (and is equivalent to multiplying by 1).  If you multiply an integer or float by a boolean with value `False`, it always returns 0.  This is true for both positive and negative numbers.  If you multiply a string by a boolean with value `True`, it just returns that same string.  And if you multiply a string by a boolean with value `False`, it returns an empty string (or a string with length zero)."
      ],
      "text/plain": [
       "Correct: \n",
       "\n",
       "When you multiple an integer or float by a boolean with value `True`, it just returns that same integer or float (and is equivalent to multiplying by 1).  If you multiply an integer or float by a boolean with value `False`, it always returns 0.  This is true for both positive and negative numbers.  If you multiply a string by a boolean with value `True`, it just returns that same string.  And if you multiply a string by a boolean with value `False`, it returns an empty string (or a string with length zero)."
      ]
     },
     "metadata": {},
     "output_type": "display_data"
    }
   ],
   "source": [
    "# Check your answer (Run this code cell to receive credit!)\n",
    "q2.check()"
   ]
  },
  {
   "cell_type": "markdown",
   "id": "af2fdb71",
   "metadata": {
    "papermill": {
     "duration": 0.007693,
     "end_time": "2022-06-28T13:20:19.487554",
     "exception": false,
     "start_time": "2022-06-28T13:20:19.479861",
     "status": "completed"
    },
    "tags": []
   },
   "source": [
    "# Question 3\n",
    "\n",
    "In this question, you will build off your work from the previous exercise to write a function that estimates the value of a house.\n",
    "\n",
    "Use the next code cell to create a function `get_expected_cost` that takes as input three variables:\n",
    "- `beds` - number of bedrooms (data type float)\n",
    "- `baths` - number of bathrooms (data type float)\n",
    "- `has_basement` - whether or not the house has a basement (data type boolean)\n",
    "\n",
    "It should return the expected cost of a house with those characteristics. Assume that:\n",
    "- the expected cost for a house with 0 bedrooms and 0 bathrooms, and no basement is 80000, \n",
    "- each bedroom adds 30000 to the expected cost,\n",
    "- each bathroom adds 10000 to the expected cost, and\n",
    "- a basement adds 40000 to the expected cost.\n",
    "\n",
    "For instance,\n",
    "- a house with 1 bedroom, 1 bathroom, and no basement has an expected cost of 80000 + 30000 + 10000 = 120000.  This value will be calculated with `get_expected_cost(1, 1, False)`.\n",
    "- a house with 2 bedrooms, 1 bathroom, and a basement has an expected cost of 80000 + 2*30000 + 10000 + 40000 = 190000.  This value will be calculated with `get_expected_cost(2, 1, True)`.\n",
    "\n",
    "Remember you can always get a hint by uncommenting `q3.hint()` in the code cell following the next!"
   ]
  },
  {
   "cell_type": "code",
   "execution_count": 7,
   "id": "47d922d4",
   "metadata": {
    "execution": {
     "iopub.execute_input": "2022-06-28T13:20:19.505309Z",
     "iopub.status.busy": "2022-06-28T13:20:19.504575Z",
     "iopub.status.idle": "2022-06-28T13:20:19.514835Z",
     "shell.execute_reply": "2022-06-28T13:20:19.513718Z"
    },
    "papermill": {
     "duration": 0.021579,
     "end_time": "2022-06-28T13:20:19.517038",
     "exception": false,
     "start_time": "2022-06-28T13:20:19.495459",
     "status": "completed"
    },
    "tags": []
   },
   "outputs": [
    {
     "data": {
      "application/javascript": [
       "parent.postMessage({\"jupyterEvent\": \"custom.exercise_interaction\", \"data\": {\"outcomeType\": 1, \"valueTowardsCompletion\": 0.2, \"interactionType\": 1, \"questionType\": 2, \"questionId\": \"3_EstimateHouseValueBool\", \"learnToolsVersion\": \"0.3.4\", \"failureMessage\": \"\", \"exceptionClass\": \"\", \"trace\": \"\"}}, \"*\")"
      ],
      "text/plain": [
       "<IPython.core.display.Javascript object>"
      ]
     },
     "metadata": {},
     "output_type": "display_data"
    },
    {
     "data": {
      "text/markdown": [
       "<span style=\"color:#33cc33\">Correct</span>"
      ],
      "text/plain": [
       "Correct"
      ]
     },
     "metadata": {},
     "output_type": "display_data"
    }
   ],
   "source": [
    "# TODO: Complete the function\n",
    "def get_expected_cost(beds, baths, has_basement):\n",
    "    value = 80000 + 30000 * beds + 10000 * baths + 40000 * has_basement\n",
    "    return value\n",
    "\n",
    "# Check your answer \n",
    "q3.check()"
   ]
  },
  {
   "cell_type": "code",
   "execution_count": 8,
   "id": "f80725ef",
   "metadata": {
    "execution": {
     "iopub.execute_input": "2022-06-28T13:20:19.536086Z",
     "iopub.status.busy": "2022-06-28T13:20:19.535390Z",
     "iopub.status.idle": "2022-06-28T13:20:19.540276Z",
     "shell.execute_reply": "2022-06-28T13:20:19.539136Z"
    },
    "papermill": {
     "duration": 0.01664,
     "end_time": "2022-06-28T13:20:19.542569",
     "exception": false,
     "start_time": "2022-06-28T13:20:19.525929",
     "status": "completed"
    },
    "tags": []
   },
   "outputs": [],
   "source": [
    "# Uncomment to see a hint\n",
    "#q3.hint()\n",
    "\n",
    "# Uncomment to view the solution\n",
    "#q3.solution()"
   ]
  },
  {
   "cell_type": "markdown",
   "id": "674c2363",
   "metadata": {
    "papermill": {
     "duration": 0.007889,
     "end_time": "2022-06-28T13:20:19.558728",
     "exception": false,
     "start_time": "2022-06-28T13:20:19.550839",
     "status": "completed"
    },
    "tags": []
   },
   "source": [
    "# Question 4\n",
    "\n",
    "We'll continue our study of boolean arithmetic.  For this question, your task is to provide a description of what happpens when you add booleans. \n",
    "\n",
    "Use the next code cell for your investigation.  Feel free to add or remove any lines of code - use it as your workspace!"
   ]
  },
  {
   "cell_type": "code",
   "execution_count": 9,
   "id": "41e1ba97",
   "metadata": {
    "execution": {
     "iopub.execute_input": "2022-06-28T13:20:19.577299Z",
     "iopub.status.busy": "2022-06-28T13:20:19.576619Z",
     "iopub.status.idle": "2022-06-28T13:20:19.582765Z",
     "shell.execute_reply": "2022-06-28T13:20:19.581778Z"
    },
    "papermill": {
     "duration": 0.017685,
     "end_time": "2022-06-28T13:20:19.584697",
     "exception": false,
     "start_time": "2022-06-28T13:20:19.567012",
     "status": "completed"
    },
    "tags": []
   },
   "outputs": [
    {
     "name": "stdout",
     "output_type": "stream",
     "text": [
      "0\n",
      "1\n",
      "1\n",
      "2\n",
      "3\n"
     ]
    }
   ],
   "source": [
    "print(False + False)\n",
    "print(True + False)\n",
    "print(False + True)\n",
    "print(True + True)\n",
    "print(False + True + True + True)"
   ]
  },
  {
   "cell_type": "markdown",
   "id": "4d5c0c96",
   "metadata": {
    "papermill": {
     "duration": 0.008055,
     "end_time": "2022-06-28T13:20:19.601035",
     "exception": false,
     "start_time": "2022-06-28T13:20:19.592980",
     "status": "completed"
    },
    "tags": []
   },
   "source": [
    "Once you have an answer, run the code cell below to see the solution.  Viewing the solution will give you credit for answering the problem."
   ]
  },
  {
   "cell_type": "code",
   "execution_count": 10,
   "id": "0f327e8f",
   "metadata": {
    "execution": {
     "iopub.execute_input": "2022-06-28T13:20:19.619612Z",
     "iopub.status.busy": "2022-06-28T13:20:19.618752Z",
     "iopub.status.idle": "2022-06-28T13:20:19.627975Z",
     "shell.execute_reply": "2022-06-28T13:20:19.627175Z"
    },
    "papermill": {
     "duration": 0.020502,
     "end_time": "2022-06-28T13:20:19.629911",
     "exception": false,
     "start_time": "2022-06-28T13:20:19.609409",
     "status": "completed"
    },
    "tags": []
   },
   "outputs": [
    {
     "data": {
      "application/javascript": [
       "parent.postMessage({\"jupyterEvent\": \"custom.exercise_interaction\", \"data\": {\"outcomeType\": 1, \"valueTowardsCompletion\": 0.2, \"interactionType\": 1, \"questionType\": 4, \"questionId\": \"4_AddingBooleans\", \"learnToolsVersion\": \"0.3.4\", \"failureMessage\": \"\", \"exceptionClass\": \"\", \"trace\": \"\"}}, \"*\")"
      ],
      "text/plain": [
       "<IPython.core.display.Javascript object>"
      ]
     },
     "metadata": {},
     "output_type": "display_data"
    },
    {
     "data": {
      "text/markdown": [
       "<span style=\"color:#33cc33\">Correct:</span> \n",
       "\n",
       "When you add booleans, adding `False` is equivalent to adding 0, and adding `True` is equivalent to adding 1."
      ],
      "text/plain": [
       "Correct: \n",
       "\n",
       "When you add booleans, adding `False` is equivalent to adding 0, and adding `True` is equivalent to adding 1."
      ]
     },
     "metadata": {},
     "output_type": "display_data"
    }
   ],
   "source": [
    "# Check your answer (Run this code cell to receive credit!)\n",
    "q4.check()"
   ]
  },
  {
   "cell_type": "markdown",
   "id": "cca54b1b",
   "metadata": {
    "papermill": {
     "duration": 0.008346,
     "end_time": "2022-06-28T13:20:19.646800",
     "exception": false,
     "start_time": "2022-06-28T13:20:19.638454",
     "status": "completed"
    },
    "tags": []
   },
   "source": [
    "# 🌶️ Question 5\n",
    "\n",
    "You own an online shop where you sell rings with custom engravings.  You offer both gold plated and solid gold rings.\n",
    "- Gold plated rings have a base cost of \\\\$50, and you charge \\\\$7 per engraved unit.  \n",
    "- Solid gold rings have a base cost of \\\\$100, and you charge \\\\$10 per engraved unit.\n",
    "- Spaces and punctuation are counted as engraved units.\n",
    "\n",
    "Write a function `cost_of_project()` that takes two arguments:\n",
    "- `engraving` - a Python string with the text of the engraving\n",
    "- `solid_gold` - a Boolean that indicates whether the ring is solid gold\n",
    "\n",
    "It should return the cost of the project.  This question should be fairly challenging, and you may need a hint."
   ]
  },
  {
   "cell_type": "code",
   "execution_count": 11,
   "id": "23d84c51",
   "metadata": {
    "execution": {
     "iopub.execute_input": "2022-06-28T13:20:19.666193Z",
     "iopub.status.busy": "2022-06-28T13:20:19.665515Z",
     "iopub.status.idle": "2022-06-28T13:20:19.674278Z",
     "shell.execute_reply": "2022-06-28T13:20:19.673498Z"
    },
    "papermill": {
     "duration": 0.020706,
     "end_time": "2022-06-28T13:20:19.676296",
     "exception": false,
     "start_time": "2022-06-28T13:20:19.655590",
     "status": "completed"
    },
    "tags": []
   },
   "outputs": [
    {
     "data": {
      "application/javascript": [
       "parent.postMessage({\"jupyterEvent\": \"custom.exercise_interaction\", \"data\": {\"outcomeType\": 1, \"valueTowardsCompletion\": 0.2, \"interactionType\": 1, \"questionType\": 2, \"questionId\": \"5_CustomEngravings\", \"learnToolsVersion\": \"0.3.4\", \"failureMessage\": \"\", \"exceptionClass\": \"\", \"trace\": \"\"}}, \"*\")"
      ],
      "text/plain": [
       "<IPython.core.display.Javascript object>"
      ]
     },
     "metadata": {},
     "output_type": "display_data"
    },
    {
     "data": {
      "text/markdown": [
       "<span style=\"color:#33cc33\">Correct</span>"
      ],
      "text/plain": [
       "Correct"
      ]
     },
     "metadata": {},
     "output_type": "display_data"
    }
   ],
   "source": [
    "def cost_of_project(engraving, solid_gold):\n",
    "    cost = solid_gold * (100 + 10 * len(engraving)) + (not solid_gold) * (50 + 7 * len(engraving))\n",
    "    return cost\n",
    "\n",
    "# Check your answer\n",
    "q5.check()"
   ]
  },
  {
   "cell_type": "code",
   "execution_count": 12,
   "id": "2b653c3f",
   "metadata": {
    "execution": {
     "iopub.execute_input": "2022-06-28T13:20:19.696408Z",
     "iopub.status.busy": "2022-06-28T13:20:19.695695Z",
     "iopub.status.idle": "2022-06-28T13:20:19.706111Z",
     "shell.execute_reply": "2022-06-28T13:20:19.705390Z"
    },
    "papermill": {
     "duration": 0.022794,
     "end_time": "2022-06-28T13:20:19.708170",
     "exception": false,
     "start_time": "2022-06-28T13:20:19.685376",
     "status": "completed"
    },
    "tags": []
   },
   "outputs": [
    {
     "data": {
      "application/javascript": [
       "parent.postMessage({\"jupyterEvent\": \"custom.exercise_interaction\", \"data\": {\"interactionType\": 2, \"questionType\": 2, \"questionId\": \"5_CustomEngravings\", \"learnToolsVersion\": \"0.3.4\", \"valueTowardsCompletion\": 0.0, \"failureMessage\": \"\", \"exceptionClass\": \"\", \"trace\": \"\", \"outcomeType\": 4}}, \"*\")"
      ],
      "text/plain": [
       "<IPython.core.display.Javascript object>"
      ]
     },
     "metadata": {},
     "output_type": "display_data"
    },
    {
     "data": {
      "text/markdown": [
       "<span style=\"color:#3366cc\">Hint:</span> There are two options - either the project uses solid gold or does not.  With this in mind, you can structure your solution like this: `cost = solid_gold * ____ + (not_solid_gold) * ____`.  You need to figure out how to fill in the blanks. Also, remember that:\n",
       "- If `solid_gold = True`, then `(not solid_gold) = False`, and if `solid_gold = False`, then `(not solid_gold) = True`.\n",
       "- Multiplying an integer by `True` is equivalent to multiplying it by 1, and multiplying an integer by `False` is equivalent to multiplying it by 0."
      ],
      "text/plain": [
       "Hint: There are two options - either the project uses solid gold or does not.  With this in mind, you can structure your solution like this: `cost = solid_gold * ____ + (not_solid_gold) * ____`.  You need to figure out how to fill in the blanks. Also, remember that:\n",
       "- If `solid_gold = True`, then `(not solid_gold) = False`, and if `solid_gold = False`, then `(not solid_gold) = True`.\n",
       "- Multiplying an integer by `True` is equivalent to multiplying it by 1, and multiplying an integer by `False` is equivalent to multiplying it by 0."
      ]
     },
     "metadata": {},
     "output_type": "display_data"
    },
    {
     "data": {
      "application/javascript": [
       "parent.postMessage({\"jupyterEvent\": \"custom.exercise_interaction\", \"data\": {\"interactionType\": 3, \"questionType\": 2, \"questionId\": \"5_CustomEngravings\", \"learnToolsVersion\": \"0.3.4\", \"valueTowardsCompletion\": 0.0, \"failureMessage\": \"\", \"exceptionClass\": \"\", \"trace\": \"\", \"outcomeType\": 4}}, \"*\")"
      ],
      "text/plain": [
       "<IPython.core.display.Javascript object>"
      ]
     },
     "metadata": {},
     "output_type": "display_data"
    },
    {
     "data": {
      "text/markdown": [
       "<span style=\"color:#33cc99\">Solution:</span> \n",
       "```python\n",
       "def cost_of_project(engraving, solid_gold):\n",
       "    cost = solid_gold * (100 + 10 * len(engraving)) + (not solid_gold) * (50 + 7 * len(engraving))\n",
       "    return cost\n",
       "\n",
       "```"
      ],
      "text/plain": [
       "Solution: \n",
       "```python\n",
       "def cost_of_project(engraving, solid_gold):\n",
       "    cost = solid_gold * (100 + 10 * len(engraving)) + (not solid_gold) * (50 + 7 * len(engraving))\n",
       "    return cost\n",
       "\n",
       "```"
      ]
     },
     "metadata": {},
     "output_type": "display_data"
    }
   ],
   "source": [
    "# Uncomment to see a hint\n",
    "q5.hint()\n",
    "\n",
    "# Uncomment to view the solution\n",
    "q5.solution()"
   ]
  },
  {
   "cell_type": "markdown",
   "id": "cf030c7e",
   "metadata": {
    "papermill": {
     "duration": 0.009256,
     "end_time": "2022-06-28T13:20:19.727091",
     "exception": false,
     "start_time": "2022-06-28T13:20:19.717835",
     "status": "completed"
    },
    "tags": []
   },
   "source": [
    "Run the next code cell to calculate the cost of engraving `Charlie+Denver` on a solid gold ring."
   ]
  },
  {
   "cell_type": "code",
   "execution_count": 13,
   "id": "4644c085",
   "metadata": {
    "execution": {
     "iopub.execute_input": "2022-06-28T13:20:19.748112Z",
     "iopub.status.busy": "2022-06-28T13:20:19.747434Z",
     "iopub.status.idle": "2022-06-28T13:20:19.752749Z",
     "shell.execute_reply": "2022-06-28T13:20:19.751483Z"
    },
    "papermill": {
     "duration": 0.018231,
     "end_time": "2022-06-28T13:20:19.754754",
     "exception": false,
     "start_time": "2022-06-28T13:20:19.736523",
     "status": "completed"
    },
    "tags": []
   },
   "outputs": [
    {
     "name": "stdout",
     "output_type": "stream",
     "text": [
      "240\n"
     ]
    }
   ],
   "source": [
    "project_one = cost_of_project(\"Charlie+Denver\", True)\n",
    "print(project_one)"
   ]
  },
  {
   "cell_type": "markdown",
   "id": "3d67d458",
   "metadata": {
    "papermill": {
     "duration": 0.00924,
     "end_time": "2022-06-28T13:20:19.773805",
     "exception": false,
     "start_time": "2022-06-28T13:20:19.764565",
     "status": "completed"
    },
    "tags": []
   },
   "source": [
    "Use the next code cell to calculate the cost of engraving `08/10/2000` on a gold plated ring."
   ]
  },
  {
   "cell_type": "code",
   "execution_count": 14,
   "id": "52228ba8",
   "metadata": {
    "execution": {
     "iopub.execute_input": "2022-06-28T13:20:19.795421Z",
     "iopub.status.busy": "2022-06-28T13:20:19.794592Z",
     "iopub.status.idle": "2022-06-28T13:20:19.800202Z",
     "shell.execute_reply": "2022-06-28T13:20:19.798924Z"
    },
    "papermill": {
     "duration": 0.019051,
     "end_time": "2022-06-28T13:20:19.802372",
     "exception": false,
     "start_time": "2022-06-28T13:20:19.783321",
     "status": "completed"
    },
    "tags": []
   },
   "outputs": [
    {
     "name": "stdout",
     "output_type": "stream",
     "text": [
      "120\n"
     ]
    }
   ],
   "source": [
    "project_two = cost_of_project(\"08/10/2000\", False)\n",
    "print(project_two)"
   ]
  },
  {
   "cell_type": "markdown",
   "id": "e7239484",
   "metadata": {
    "papermill": {
     "duration": 0.009479,
     "end_time": "2022-06-28T13:20:19.821670",
     "exception": false,
     "start_time": "2022-06-28T13:20:19.812191",
     "status": "completed"
    },
    "tags": []
   },
   "source": [
    "# Keep going\n",
    "\n",
    "Continue to the next lesson to **[learn about conditions and conditional statements](https://www.kaggle.com/alexisbcook/conditions-and-conditional-statements)**."
   ]
  },
  {
   "cell_type": "markdown",
   "id": "247f3d4d",
   "metadata": {
    "papermill": {
     "duration": 0.009211,
     "end_time": "2022-06-28T13:20:19.840418",
     "exception": false,
     "start_time": "2022-06-28T13:20:19.831207",
     "status": "completed"
    },
    "tags": []
   },
   "source": [
    "---\n",
    "\n",
    "\n",
    "\n",
    "\n",
    "*Have questions or comments? Visit the [course discussion forum](https://www.kaggle.com/learn/intro-to-programming/discussion) to chat with other learners.*"
   ]
  }
 ],
 "metadata": {
  "kernelspec": {
   "display_name": "Python 3",
   "language": "python",
   "name": "python3"
  },
  "language_info": {
   "codemirror_mode": {
    "name": "ipython",
    "version": 3
   },
   "file_extension": ".py",
   "mimetype": "text/x-python",
   "name": "python",
   "nbconvert_exporter": "python",
   "pygments_lexer": "ipython3",
   "version": "3.7.12"
  },
  "papermill": {
   "default_parameters": {},
   "duration": 11.505086,
   "end_time": "2022-06-28T13:20:20.470976",
   "environment_variables": {},
   "exception": null,
   "input_path": "__notebook__.ipynb",
   "output_path": "__notebook__.ipynb",
   "parameters": {},
   "start_time": "2022-06-28T13:20:08.965890",
   "version": "2.3.4"
  }
 },
 "nbformat": 4,
 "nbformat_minor": 5
}
