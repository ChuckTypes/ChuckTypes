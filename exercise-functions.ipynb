{
 "cells": [
  {
   "cell_type": "markdown",
   "id": "ad4bc9d8",
   "metadata": {
    "papermill": {
     "duration": 0.011782,
     "end_time": "2022-06-28T13:17:22.386481",
     "exception": false,
     "start_time": "2022-06-28T13:17:22.374699",
     "status": "completed"
    },
    "tags": []
   },
   "source": [
    "**This notebook is an exercise in the [Intro to Programming](https://www.kaggle.com/learn/intro-to-programming) course.  You can reference the tutorial at [this link](https://www.kaggle.com/alexisbcook/functions).**\n",
    "\n",
    "---\n"
   ]
  },
  {
   "cell_type": "markdown",
   "id": "f439c744",
   "metadata": {
    "papermill": {
     "duration": 0.006661,
     "end_time": "2022-06-28T13:17:22.399968",
     "exception": false,
     "start_time": "2022-06-28T13:17:22.393307",
     "status": "completed"
    },
    "tags": []
   },
   "source": [
    "In the tutorial, you learned about functions. In this exercise, you'll write some of your own!\n",
    "\n",
    "# Set up the notebook\n",
    "\n",
    "Run the next code cell without changes to set up the notebook."
   ]
  },
  {
   "cell_type": "code",
   "execution_count": 1,
   "id": "4a2dd389",
   "metadata": {
    "execution": {
     "iopub.execute_input": "2022-06-28T13:17:22.416652Z",
     "iopub.status.busy": "2022-06-28T13:17:22.415066Z",
     "iopub.status.idle": "2022-06-28T13:17:22.485189Z",
     "shell.execute_reply": "2022-06-28T13:17:22.484351Z"
    },
    "papermill": {
     "duration": 0.082724,
     "end_time": "2022-06-28T13:17:22.489464",
     "exception": false,
     "start_time": "2022-06-28T13:17:22.406740",
     "status": "completed"
    },
    "tags": []
   },
   "outputs": [
    {
     "name": "stdout",
     "output_type": "stream",
     "text": [
      "Setup complete.\n"
     ]
    }
   ],
   "source": [
    "# Set up the exercise\n",
    "import math\n",
    "from learntools.core import binder\n",
    "binder.bind(globals())\n",
    "from learntools.intro_to_programming.ex2 import *\n",
    "print('Setup complete.')"
   ]
  },
  {
   "cell_type": "markdown",
   "id": "e159f45d",
   "metadata": {
    "papermill": {
     "duration": 0.009834,
     "end_time": "2022-06-28T13:17:22.510015",
     "exception": false,
     "start_time": "2022-06-28T13:17:22.500181",
     "status": "completed"
    },
    "tags": []
   },
   "source": [
    "# Question 1\n",
    "\n",
    "In the [House Prices - Advanced Regression Techniques competition](https://www.kaggle.com/c/house-prices-advanced-regression-techniques/overview), you need to use information like the number of bedrooms and bathrooms to predict the price of a house.  Inspired by this competition, you'll write your own function to do this.\n",
    "\n",
    "In the next code cell, create a function `get_expected_cost()` that has two arguments:\n",
    "- `beds` - number of bedrooms \n",
    "- `baths` - number of bathrooms\n",
    "\n",
    "It should return the expected cost of a house with that number of bedrooms and bathrooms.  Assume that:\n",
    "- the expected cost for a house with 0 bedrooms and 0 bathrooms is `80000`.  \n",
    "- each bedroom adds `30000` to the expected cost\n",
    "- each bathroom adds `10000` to the expected cost.\n",
    "\n",
    "For instance, \n",
    "- a house with 1 bedroom and 1 bathroom has an expected cost of `120000`, and \n",
    "- a house with 2 bedrooms and 1 bathroom has an expected cost of `150000`."
   ]
  },
  {
   "cell_type": "code",
   "execution_count": 2,
   "id": "80b3ce10",
   "metadata": {
    "execution": {
     "iopub.execute_input": "2022-06-28T13:17:22.526003Z",
     "iopub.status.busy": "2022-06-28T13:17:22.525178Z",
     "iopub.status.idle": "2022-06-28T13:17:22.537802Z",
     "shell.execute_reply": "2022-06-28T13:17:22.536740Z"
    },
    "papermill": {
     "duration": 0.02329,
     "end_time": "2022-06-28T13:17:22.540012",
     "exception": false,
     "start_time": "2022-06-28T13:17:22.516722",
     "status": "completed"
    },
    "tags": []
   },
   "outputs": [
    {
     "data": {
      "application/javascript": [
       "parent.postMessage({\"jupyterEvent\": \"custom.exercise_interaction\", \"data\": {\"outcomeType\": 1, \"valueTowardsCompletion\": 0.2, \"interactionType\": 1, \"questionType\": 2, \"questionId\": \"1_GetExpectedCost\", \"learnToolsVersion\": \"0.3.4\", \"failureMessage\": \"\", \"exceptionClass\": \"\", \"trace\": \"\"}}, \"*\")"
      ],
      "text/plain": [
       "<IPython.core.display.Javascript object>"
      ]
     },
     "metadata": {},
     "output_type": "display_data"
    },
    {
     "data": {
      "text/markdown": [
       "<span style=\"color:#33cc33\">Correct</span>"
      ],
      "text/plain": [
       "Correct"
      ]
     },
     "metadata": {},
     "output_type": "display_data"
    }
   ],
   "source": [
    "# TODO: Complete the function\n",
    "def get_expected_cost(beds, baths):\n",
    "    value = 80000 + 30000 * beds + 10000 * baths\n",
    "    return value\n",
    "\n",
    "# Check your answer \n",
    "q1.check()"
   ]
  },
  {
   "cell_type": "code",
   "execution_count": 3,
   "id": "2847a3dc",
   "metadata": {
    "execution": {
     "iopub.execute_input": "2022-06-28T13:17:22.555801Z",
     "iopub.status.busy": "2022-06-28T13:17:22.555028Z",
     "iopub.status.idle": "2022-06-28T13:17:22.559785Z",
     "shell.execute_reply": "2022-06-28T13:17:22.558820Z"
    },
    "papermill": {
     "duration": 0.015874,
     "end_time": "2022-06-28T13:17:22.562634",
     "exception": false,
     "start_time": "2022-06-28T13:17:22.546760",
     "status": "completed"
    },
    "tags": []
   },
   "outputs": [],
   "source": [
    "# Uncomment to see a hint\n",
    "#q1.hint()\n",
    "\n",
    "# Uncomment to view the solution\n",
    "#q1.solution()"
   ]
  },
  {
   "cell_type": "markdown",
   "id": "83ef586c",
   "metadata": {
    "papermill": {
     "duration": 0.006756,
     "end_time": "2022-06-28T13:17:22.580901",
     "exception": false,
     "start_time": "2022-06-28T13:17:22.574145",
     "status": "completed"
    },
    "tags": []
   },
   "source": [
    "# Question 2\n",
    "\n",
    "You are thinking about buying a home and want to get an idea of how much you will spend, based on the number of bedrooms and bathrooms.  You are trying to decide between four different options:\n",
    "- Option 1: house with two bedrooms and three bathrooms\n",
    "- Option 2: house with three bedrooms and two bathrooms\n",
    "- Option 3: house with three bedrooms and three bathrooms\n",
    "- Option 4: house with three bedrooms and four bathrooms\n",
    "\n",
    "Use the `get_expected_cost()` function you defined in question 1 to set `option_1`, `option_2`, `option_3`, and `option_4` to the expected cost of each option."
   ]
  },
  {
   "cell_type": "code",
   "execution_count": 4,
   "id": "1e8ed686",
   "metadata": {
    "execution": {
     "iopub.execute_input": "2022-06-28T13:17:22.596651Z",
     "iopub.status.busy": "2022-06-28T13:17:22.596199Z",
     "iopub.status.idle": "2022-06-28T13:17:22.607114Z",
     "shell.execute_reply": "2022-06-28T13:17:22.606327Z"
    },
    "papermill": {
     "duration": 0.025935,
     "end_time": "2022-06-28T13:17:22.613718",
     "exception": false,
     "start_time": "2022-06-28T13:17:22.587783",
     "status": "completed"
    },
    "tags": []
   },
   "outputs": [
    {
     "name": "stdout",
     "output_type": "stream",
     "text": [
      "170000\n",
      "190000\n",
      "200000\n",
      "210000\n"
     ]
    },
    {
     "data": {
      "application/javascript": [
       "parent.postMessage({\"jupyterEvent\": \"custom.exercise_interaction\", \"data\": {\"outcomeType\": 1, \"valueTowardsCompletion\": 0.2, \"interactionType\": 1, \"questionType\": 1, \"questionId\": \"2_RunGetExpectedCost\", \"learnToolsVersion\": \"0.3.4\", \"failureMessage\": \"\", \"exceptionClass\": \"\", \"trace\": \"\"}}, \"*\")"
      ],
      "text/plain": [
       "<IPython.core.display.Javascript object>"
      ]
     },
     "metadata": {},
     "output_type": "display_data"
    },
    {
     "data": {
      "text/markdown": [
       "<span style=\"color:#33cc33\">Correct</span>"
      ],
      "text/plain": [
       "Correct"
      ]
     },
     "metadata": {},
     "output_type": "display_data"
    }
   ],
   "source": [
    "# TODO: Use the get_expected_cost function to fill in each value\n",
    "option_one = 80000 + (2 * 30000) + (3 * 10000)\n",
    "option_two = 80000 + (3 * 30000) + (2 * 10000)\n",
    "option_three = 80000 + (3 * 30000) + (3 * 10000)\n",
    "option_four = 80000 + (3 * 30000) + (4 * 10000)\n",
    "\n",
    "print(option_one)\n",
    "print(option_two)\n",
    "print(option_three)\n",
    "print(option_four)\n",
    "\n",
    "# Check your answer\n",
    "q2.check()"
   ]
  },
  {
   "cell_type": "code",
   "execution_count": 5,
   "id": "f29cc8ce",
   "metadata": {
    "execution": {
     "iopub.execute_input": "2022-06-28T13:17:22.632362Z",
     "iopub.status.busy": "2022-06-28T13:17:22.631957Z",
     "iopub.status.idle": "2022-06-28T13:17:22.636664Z",
     "shell.execute_reply": "2022-06-28T13:17:22.635456Z"
    },
    "papermill": {
     "duration": 0.015346,
     "end_time": "2022-06-28T13:17:22.639059",
     "exception": false,
     "start_time": "2022-06-28T13:17:22.623713",
     "status": "completed"
    },
    "tags": []
   },
   "outputs": [],
   "source": [
    "# Uncomment to see a hint\n",
    "#q2.hint()\n",
    "\n",
    "# Uncomment to view the solution\n",
    "#q2.solution()"
   ]
  },
  {
   "cell_type": "markdown",
   "id": "a9e161ff",
   "metadata": {
    "papermill": {
     "duration": 0.007241,
     "end_time": "2022-06-28T13:17:22.653713",
     "exception": false,
     "start_time": "2022-06-28T13:17:22.646472",
     "status": "completed"
    },
    "tags": []
   },
   "source": [
    "# Question 3\n",
    "\n",
    "You're a home decorator, and you'd like to use Python to streamline some of your work.  Specifically, you're creating a tool that you intend to use to calculate the cost of painting a room.\n",
    "\n",
    "As a first step, define a function `get_cost()` that takes as input:\n",
    "- `sqft_walls` = total square feet of walls to be painted\n",
    "- `sqft_ceiling` = square feet of ceiling to be painted\n",
    "- `sqft_per_gallon` = number of square feet that you can cover with one gallon of paint\n",
    "- `cost_per_gallon` = cost (in dollars) of one gallon of paint\n",
    "\n",
    "It should return the cost (in dollars) of putting one coat of paint on all walls and the ceiling.  Assume you can buy the exact amount of paint that you need, so you can buy partial gallons (e.g., if you need 7.523 gallons, you can buy that exact amount, instead of needing to buy 8 gallons and waste some paint).  Do not round your answer."
   ]
  },
  {
   "cell_type": "code",
   "execution_count": 6,
   "id": "fac2b404",
   "metadata": {
    "execution": {
     "iopub.execute_input": "2022-06-28T13:17:22.670976Z",
     "iopub.status.busy": "2022-06-28T13:17:22.670262Z",
     "iopub.status.idle": "2022-06-28T13:17:22.678951Z",
     "shell.execute_reply": "2022-06-28T13:17:22.678038Z"
    },
    "papermill": {
     "duration": 0.020798,
     "end_time": "2022-06-28T13:17:22.681828",
     "exception": false,
     "start_time": "2022-06-28T13:17:22.661030",
     "status": "completed"
    },
    "tags": []
   },
   "outputs": [
    {
     "data": {
      "application/javascript": [
       "parent.postMessage({\"jupyterEvent\": \"custom.exercise_interaction\", \"data\": {\"outcomeType\": 1, \"valueTowardsCompletion\": 0.2, \"interactionType\": 1, \"questionType\": 2, \"questionId\": \"3_GetCostPaint\", \"learnToolsVersion\": \"0.3.4\", \"failureMessage\": \"\", \"exceptionClass\": \"\", \"trace\": \"\"}}, \"*\")"
      ],
      "text/plain": [
       "<IPython.core.display.Javascript object>"
      ]
     },
     "metadata": {},
     "output_type": "display_data"
    },
    {
     "data": {
      "text/markdown": [
       "<span style=\"color:#33cc33\">Correct</span>"
      ],
      "text/plain": [
       "Correct"
      ]
     },
     "metadata": {},
     "output_type": "display_data"
    }
   ],
   "source": [
    "# TODO: Finish defining the function\n",
    "def get_cost(sqft_walls, sqft_ceiling, sqft_per_gallon, cost_per_gallon):\n",
    "    total_sqft = sqft_walls + sqft_ceiling\n",
    "    gallons_needed = total_sqft / sqft_per_gallon\n",
    "    cost = gallons_needed * cost_per_gallon\n",
    "    return cost\n",
    "\n",
    "# Check your answer\n",
    "q3.check()"
   ]
  },
  {
   "cell_type": "code",
   "execution_count": 7,
   "id": "ee9e0c3f",
   "metadata": {
    "execution": {
     "iopub.execute_input": "2022-06-28T13:17:22.703249Z",
     "iopub.status.busy": "2022-06-28T13:17:22.702754Z",
     "iopub.status.idle": "2022-06-28T13:17:22.707809Z",
     "shell.execute_reply": "2022-06-28T13:17:22.706740Z"
    },
    "papermill": {
     "duration": 0.016259,
     "end_time": "2022-06-28T13:17:22.710117",
     "exception": false,
     "start_time": "2022-06-28T13:17:22.693858",
     "status": "completed"
    },
    "tags": []
   },
   "outputs": [],
   "source": [
    "# Uncomment to see a hint\n",
    "#q3.hint()\n",
    "\n",
    "# Uncomment to view the solution\n",
    "#q3.solution()"
   ]
  },
  {
   "cell_type": "markdown",
   "id": "62404617",
   "metadata": {
    "papermill": {
     "duration": 0.007233,
     "end_time": "2022-06-28T13:17:22.724932",
     "exception": false,
     "start_time": "2022-06-28T13:17:22.717699",
     "status": "completed"
    },
    "tags": []
   },
   "source": [
    "# Question 4\n",
    "\n",
    "Use the `get_cost()` function you defined in Question 3 to calculate the cost of applying one coat of paint to a room with:\n",
    "- 432 square feet of walls, and\n",
    "- 144 square feet of ceiling.\n",
    "\n",
    "Assume that one gallon of paint covers 400 square feet and costs $15.  As in Question 3, assume you can buy partial gallons of paint.  Do not round your answer."
   ]
  },
  {
   "cell_type": "code",
   "execution_count": 8,
   "id": "1ffaf975",
   "metadata": {
    "execution": {
     "iopub.execute_input": "2022-06-28T13:17:22.742700Z",
     "iopub.status.busy": "2022-06-28T13:17:22.741759Z",
     "iopub.status.idle": "2022-06-28T13:17:22.752401Z",
     "shell.execute_reply": "2022-06-28T13:17:22.751328Z"
    },
    "papermill": {
     "duration": 0.022366,
     "end_time": "2022-06-28T13:17:22.754698",
     "exception": false,
     "start_time": "2022-06-28T13:17:22.732332",
     "status": "completed"
    },
    "tags": []
   },
   "outputs": [
    {
     "data": {
      "application/javascript": [
       "parent.postMessage({\"jupyterEvent\": \"custom.exercise_interaction\", \"data\": {\"outcomeType\": 1, \"valueTowardsCompletion\": 0.2, \"interactionType\": 1, \"questionType\": 1, \"questionId\": \"4_GetCostPaintExample\", \"learnToolsVersion\": \"0.3.4\", \"failureMessage\": \"\", \"exceptionClass\": \"\", \"trace\": \"\"}}, \"*\")"
      ],
      "text/plain": [
       "<IPython.core.display.Javascript object>"
      ]
     },
     "metadata": {},
     "output_type": "display_data"
    },
    {
     "data": {
      "text/markdown": [
       "<span style=\"color:#33cc33\">Correct</span>"
      ],
      "text/plain": [
       "Correct"
      ]
     },
     "metadata": {},
     "output_type": "display_data"
    }
   ],
   "source": [
    "# TODO: Set the project_cost variable to the cost of the project\n",
    "project_cost = get_cost(432, 144, 400, 15)\n",
    "\n",
    "# Check your answer\n",
    "q4.check()"
   ]
  },
  {
   "cell_type": "code",
   "execution_count": 9,
   "id": "13d09b30",
   "metadata": {
    "execution": {
     "iopub.execute_input": "2022-06-28T13:17:22.774091Z",
     "iopub.status.busy": "2022-06-28T13:17:22.772362Z",
     "iopub.status.idle": "2022-06-28T13:17:22.778233Z",
     "shell.execute_reply": "2022-06-28T13:17:22.777347Z"
    },
    "papermill": {
     "duration": 0.018097,
     "end_time": "2022-06-28T13:17:22.780593",
     "exception": false,
     "start_time": "2022-06-28T13:17:22.762496",
     "status": "completed"
    },
    "tags": []
   },
   "outputs": [],
   "source": [
    "# Uncomment to see a hint\n",
    "#q4.hint()\n",
    "\n",
    "# Uncomment to view the solution\n",
    "#q4.solution()"
   ]
  },
  {
   "cell_type": "markdown",
   "id": "ad7b40bd",
   "metadata": {
    "papermill": {
     "duration": 0.010009,
     "end_time": "2022-06-28T13:17:22.799630",
     "exception": false,
     "start_time": "2022-06-28T13:17:22.789621",
     "status": "completed"
    },
    "tags": []
   },
   "source": [
    "# 🌶️ Question 5\n",
    "\n",
    "Now say you can no longer buy fractions of a gallon.  (For instance, if you need 4.3 gallons to do a project, then you have to buy 5 gallons of paint.)\n",
    "\n",
    "With this new scenario, you will create a new function `get_actual_cost` that uses the same inputs and calculates the cost of your project.\n",
    "\n",
    "One function that you'll need to use to do this is `math.ceil()`.  We demonstrate usage of this function in the code cell below.  It takes as a number as input and rounds the number up to the nearest integer.  \n",
    "\n",
    "Run the next code cell to test this function for yourself.  Feel free to change the value of `test_value` and make sure `math.ceil()` returns the number you expect."
   ]
  },
  {
   "cell_type": "code",
   "execution_count": 10,
   "id": "d301b6a1",
   "metadata": {
    "execution": {
     "iopub.execute_input": "2022-06-28T13:17:22.818163Z",
     "iopub.status.busy": "2022-06-28T13:17:22.817657Z",
     "iopub.status.idle": "2022-06-28T13:17:22.824095Z",
     "shell.execute_reply": "2022-06-28T13:17:22.822736Z"
    },
    "papermill": {
     "duration": 0.018957,
     "end_time": "2022-06-28T13:17:22.826920",
     "exception": false,
     "start_time": "2022-06-28T13:17:22.807963",
     "status": "completed"
    },
    "tags": []
   },
   "outputs": [
    {
     "name": "stdout",
     "output_type": "stream",
     "text": [
      "3\n"
     ]
    }
   ],
   "source": [
    "test_value = 2.17\n",
    "\n",
    "rounded_value = math.ceil(test_value)\n",
    "print(rounded_value)"
   ]
  },
  {
   "cell_type": "markdown",
   "id": "1730649e",
   "metadata": {
    "papermill": {
     "duration": 0.007663,
     "end_time": "2022-06-28T13:17:22.842781",
     "exception": false,
     "start_time": "2022-06-28T13:17:22.835118",
     "status": "completed"
    },
    "tags": []
   },
   "source": [
    "Use the next code cell to define the function `get_actual_cost()`.  You'll need to use the `math.ceil()` function to do this.\n",
    "\n",
    "When answering this question, note that it's completely valid to define a function that makes use of another function.  For instance, we can define a function `round_up_and_divide_by_three` that makes use of the `math.ceil` function:\n",
    "```\n",
    "def round_up_and_divide_by_three(num):\n",
    "    new_value = math.ceil(num)\n",
    "    final_value = new_value / 3\n",
    "    return final_value\n",
    "```"
   ]
  },
  {
   "cell_type": "code",
   "execution_count": 11,
   "id": "a191eb50",
   "metadata": {
    "execution": {
     "iopub.execute_input": "2022-06-28T13:17:22.861468Z",
     "iopub.status.busy": "2022-06-28T13:17:22.860360Z",
     "iopub.status.idle": "2022-06-28T13:17:22.872211Z",
     "shell.execute_reply": "2022-06-28T13:17:22.870926Z"
    },
    "papermill": {
     "duration": 0.023921,
     "end_time": "2022-06-28T13:17:22.874676",
     "exception": false,
     "start_time": "2022-06-28T13:17:22.850755",
     "status": "completed"
    },
    "tags": []
   },
   "outputs": [
    {
     "data": {
      "application/javascript": [
       "parent.postMessage({\"jupyterEvent\": \"custom.exercise_interaction\", \"data\": {\"outcomeType\": 1, \"valueTowardsCompletion\": 0.2, \"interactionType\": 1, \"questionType\": 2, \"questionId\": \"5_NoMoreFractions\", \"learnToolsVersion\": \"0.3.4\", \"failureMessage\": \"\", \"exceptionClass\": \"\", \"trace\": \"\"}}, \"*\")"
      ],
      "text/plain": [
       "<IPython.core.display.Javascript object>"
      ]
     },
     "metadata": {},
     "output_type": "display_data"
    },
    {
     "data": {
      "text/markdown": [
       "<span style=\"color:#33cc33\">Correct</span>"
      ],
      "text/plain": [
       "Correct"
      ]
     },
     "metadata": {},
     "output_type": "display_data"
    }
   ],
   "source": [
    "def get_actual_cost(sqft_walls, sqft_ceiling, sqft_per_gallon, cost_per_gallon):\n",
    "    total_sqft = sqft_walls + sqft_ceiling\n",
    "    gallons_needed = total_sqft / sqft_per_gallon \n",
    "    cost = math.ceil(gallons_needed) * cost_per_gallon\n",
    "    return cost\n",
    "\n",
    "# Check your answer\n",
    "q5.check()"
   ]
  },
  {
   "cell_type": "code",
   "execution_count": 12,
   "id": "7f5d0127",
   "metadata": {
    "execution": {
     "iopub.execute_input": "2022-06-28T13:17:22.893187Z",
     "iopub.status.busy": "2022-06-28T13:17:22.892829Z",
     "iopub.status.idle": "2022-06-28T13:17:22.897361Z",
     "shell.execute_reply": "2022-06-28T13:17:22.896147Z"
    },
    "papermill": {
     "duration": 0.016486,
     "end_time": "2022-06-28T13:17:22.899690",
     "exception": false,
     "start_time": "2022-06-28T13:17:22.883204",
     "status": "completed"
    },
    "tags": []
   },
   "outputs": [],
   "source": [
    "# Uncomment to see a hint\n",
    "#q5.hint()\n",
    "\n",
    "# Uncomment to view the solution\n",
    "#q5.solution()"
   ]
  },
  {
   "cell_type": "markdown",
   "id": "c74666c1",
   "metadata": {
    "papermill": {
     "duration": 0.00808,
     "end_time": "2022-06-28T13:17:22.916286",
     "exception": false,
     "start_time": "2022-06-28T13:17:22.908206",
     "status": "completed"
    },
    "tags": []
   },
   "source": [
    "Once your function is verified as correct, run the next code cell to calculate the updated cost of your project."
   ]
  },
  {
   "cell_type": "code",
   "execution_count": 13,
   "id": "1624472c",
   "metadata": {
    "execution": {
     "iopub.execute_input": "2022-06-28T13:17:22.934746Z",
     "iopub.status.busy": "2022-06-28T13:17:22.934320Z",
     "iopub.status.idle": "2022-06-28T13:17:22.941532Z",
     "shell.execute_reply": "2022-06-28T13:17:22.940346Z"
    },
    "papermill": {
     "duration": 0.019327,
     "end_time": "2022-06-28T13:17:22.943904",
     "exception": false,
     "start_time": "2022-06-28T13:17:22.924577",
     "status": "completed"
    },
    "tags": []
   },
   "outputs": [
    {
     "data": {
      "text/plain": [
       "30"
      ]
     },
     "execution_count": 13,
     "metadata": {},
     "output_type": "execute_result"
    }
   ],
   "source": [
    "get_actual_cost(432, 144, 400, 15) "
   ]
  },
  {
   "cell_type": "markdown",
   "id": "35dd8c44",
   "metadata": {
    "papermill": {
     "duration": 0.008424,
     "end_time": "2022-06-28T13:17:22.960628",
     "exception": false,
     "start_time": "2022-06-28T13:17:22.952204",
     "status": "completed"
    },
    "tags": []
   },
   "source": [
    "Say you're working with a slightly larger room.  Run the next code cell to calculate the cost of the project."
   ]
  },
  {
   "cell_type": "code",
   "execution_count": 14,
   "id": "29fcd0f6",
   "metadata": {
    "execution": {
     "iopub.execute_input": "2022-06-28T13:17:22.979903Z",
     "iopub.status.busy": "2022-06-28T13:17:22.979054Z",
     "iopub.status.idle": "2022-06-28T13:17:22.986235Z",
     "shell.execute_reply": "2022-06-28T13:17:22.985360Z"
    },
    "papermill": {
     "duration": 0.019472,
     "end_time": "2022-06-28T13:17:22.988571",
     "exception": false,
     "start_time": "2022-06-28T13:17:22.969099",
     "status": "completed"
    },
    "tags": []
   },
   "outputs": [
    {
     "data": {
      "text/plain": [
       "45"
      ]
     },
     "execution_count": 14,
     "metadata": {},
     "output_type": "execute_result"
    }
   ],
   "source": [
    "get_actual_cost(594, 288, 400, 15) "
   ]
  },
  {
   "cell_type": "markdown",
   "id": "89ce417d",
   "metadata": {
    "papermill": {
     "duration": 0.00849,
     "end_time": "2022-06-28T13:17:23.005830",
     "exception": false,
     "start_time": "2022-06-28T13:17:22.997340",
     "status": "completed"
    },
    "tags": []
   },
   "source": [
    "# Keep going\n",
    "\n",
    "Continue to learn about **[data types](https://www.kaggle.com/alexisbcook/data-types)**."
   ]
  },
  {
   "cell_type": "markdown",
   "id": "ab07154f",
   "metadata": {
    "papermill": {
     "duration": 0.008585,
     "end_time": "2022-06-28T13:17:23.023486",
     "exception": false,
     "start_time": "2022-06-28T13:17:23.014901",
     "status": "completed"
    },
    "tags": []
   },
   "source": [
    "---\n",
    "\n",
    "\n",
    "\n",
    "\n",
    "*Have questions or comments? Visit the [course discussion forum](https://www.kaggle.com/learn/intro-to-programming/discussion) to chat with other learners.*"
   ]
  }
 ],
 "metadata": {
  "kernelspec": {
   "display_name": "Python 3",
   "language": "python",
   "name": "python3"
  },
  "language_info": {
   "codemirror_mode": {
    "name": "ipython",
    "version": 3
   },
   "file_extension": ".py",
   "mimetype": "text/x-python",
   "name": "python",
   "nbconvert_exporter": "python",
   "pygments_lexer": "ipython3",
   "version": "3.7.12"
  },
  "papermill": {
   "default_parameters": {},
   "duration": 12.625587,
   "end_time": "2022-06-28T13:17:23.653031",
   "environment_variables": {},
   "exception": null,
   "input_path": "__notebook__.ipynb",
   "output_path": "__notebook__.ipynb",
   "parameters": {},
   "start_time": "2022-06-28T13:17:11.027444",
   "version": "2.3.4"
  }
 },
 "nbformat": 4,
 "nbformat_minor": 5
}
