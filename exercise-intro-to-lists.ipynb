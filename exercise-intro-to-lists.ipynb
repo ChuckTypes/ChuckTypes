{
 "cells": [
  {
   "cell_type": "markdown",
   "id": "8177ebce",
   "metadata": {
    "papermill": {
     "duration": 0.008803,
     "end_time": "2022-06-29T19:20:02.783548",
     "exception": false,
     "start_time": "2022-06-29T19:20:02.774745",
     "status": "completed"
    },
    "tags": []
   },
   "source": [
    "**This notebook is an exercise in the [Intro to Programming](https://www.kaggle.com/learn/intro-to-programming) course.  You can reference the tutorial at [this link](https://www.kaggle.com/alexisbcook/intro-to-lists).**\n",
    "\n",
    "---\n"
   ]
  },
  {
   "cell_type": "markdown",
   "id": "970fba54",
   "metadata": {
    "papermill": {
     "duration": 0.007913,
     "end_time": "2022-06-29T19:20:02.800335",
     "exception": false,
     "start_time": "2022-06-29T19:20:02.792422",
     "status": "completed"
    },
    "tags": []
   },
   "source": [
    "In the tutorial, you learned how to define and modify Python lists.  In this exercise, you will use your new knowledge to solve several problems.\n",
    "\n",
    "# Set up the notebook\n",
    "\n",
    "Run the next code cell without changes to set up the notebook."
   ]
  },
  {
   "cell_type": "code",
   "execution_count": 1,
   "id": "a5eb2d76",
   "metadata": {
    "execution": {
     "iopub.execute_input": "2022-06-29T19:20:02.818375Z",
     "iopub.status.busy": "2022-06-29T19:20:02.817983Z",
     "iopub.status.idle": "2022-06-29T19:20:02.874414Z",
     "shell.execute_reply": "2022-06-29T19:20:02.873794Z"
    },
    "papermill": {
     "duration": 0.068542,
     "end_time": "2022-06-29T19:20:02.877203",
     "exception": false,
     "start_time": "2022-06-29T19:20:02.808661",
     "status": "completed"
    },
    "tags": []
   },
   "outputs": [
    {
     "name": "stdout",
     "output_type": "stream",
     "text": [
      "Setup complete.\n"
     ]
    }
   ],
   "source": [
    "from learntools.core import binder\n",
    "binder.bind(globals())\n",
    "from learntools.intro_to_programming.ex5 import *\n",
    "print('Setup complete.')"
   ]
  },
  {
   "cell_type": "markdown",
   "id": "fb43c688",
   "metadata": {
    "papermill": {
     "duration": 0.007652,
     "end_time": "2022-06-29T19:20:02.893530",
     "exception": false,
     "start_time": "2022-06-29T19:20:02.885878",
     "status": "completed"
    },
    "tags": []
   },
   "source": [
    "# Question 1\n",
    "\n",
    "You own a restaurant with five food dishes, organized in the Python list `menu` below.  One day, you decide to:\n",
    "- remove bean soup (`'bean soup'`) from the menu, and\n",
    "- add roasted beet salad (`'roasted beet salad'`) to the menu.\n",
    "\n",
    "Implement this change to the list below.  While completing this task, \n",
    "- do not change the line that creates the `menu` list.  \n",
    "- your answer should use `.remove()` and `.append()`.  "
   ]
  },
  {
   "cell_type": "code",
   "execution_count": 2,
   "id": "57758fc8",
   "metadata": {
    "execution": {
     "iopub.execute_input": "2022-06-29T19:20:02.911831Z",
     "iopub.status.busy": "2022-06-29T19:20:02.910565Z",
     "iopub.status.idle": "2022-06-29T19:20:02.923310Z",
     "shell.execute_reply": "2022-06-29T19:20:02.922392Z"
    },
    "papermill": {
     "duration": 0.024002,
     "end_time": "2022-06-29T19:20:02.925429",
     "exception": false,
     "start_time": "2022-06-29T19:20:02.901427",
     "status": "completed"
    },
    "tags": []
   },
   "outputs": [
    {
     "data": {
      "application/javascript": [
       "parent.postMessage({\"jupyterEvent\": \"custom.exercise_interaction\", \"data\": {\"outcomeType\": 1, \"valueTowardsCompletion\": 0.2, \"interactionType\": 1, \"questionType\": 2, \"questionId\": \"1_FoodMenu\", \"learnToolsVersion\": \"0.3.4\", \"failureMessage\": \"\", \"exceptionClass\": \"\", \"trace\": \"\"}}, \"*\")"
      ],
      "text/plain": [
       "<IPython.core.display.Javascript object>"
      ]
     },
     "metadata": {},
     "output_type": "display_data"
    },
    {
     "data": {
      "text/markdown": [
       "<span style=\"color:#33cc33\">Correct</span>"
      ],
      "text/plain": [
       "Correct"
      ]
     },
     "metadata": {},
     "output_type": "display_data"
    }
   ],
   "source": [
    "# Do not change: Initial menu for your restaurant\n",
    "menu = ['stewed meat with onions', 'bean soup', 'risotto with trout and shrimp',\n",
    "       'fish soup with cream and onion', 'gyro']\n",
    "\n",
    "# TODO: remove 'bean soup', and add 'roasted beet salad' to the end of the menu\n",
    "menu.remove('bean soup')\n",
    "menu.append('roasted beet salad')\n",
    "\n",
    "# Do not change: Check your answer\n",
    "q1.check()"
   ]
  },
  {
   "cell_type": "code",
   "execution_count": 3,
   "id": "38d32ed4",
   "metadata": {
    "execution": {
     "iopub.execute_input": "2022-06-29T19:20:02.943974Z",
     "iopub.status.busy": "2022-06-29T19:20:02.943647Z",
     "iopub.status.idle": "2022-06-29T19:20:02.947171Z",
     "shell.execute_reply": "2022-06-29T19:20:02.946325Z"
    },
    "papermill": {
     "duration": 0.01551,
     "end_time": "2022-06-29T19:20:02.949181",
     "exception": false,
     "start_time": "2022-06-29T19:20:02.933671",
     "status": "completed"
    },
    "tags": []
   },
   "outputs": [],
   "source": [
    "# Uncomment to see a hint\n",
    "#q1.hint()\n",
    "\n",
    "# Uncomment to see the solution\n",
    "#q1.solution()"
   ]
  },
  {
   "cell_type": "markdown",
   "id": "9a0e4624",
   "metadata": {
    "papermill": {
     "duration": 0.007978,
     "end_time": "2022-06-29T19:20:02.965761",
     "exception": false,
     "start_time": "2022-06-29T19:20:02.957783",
     "status": "completed"
    },
    "tags": []
   },
   "source": [
    "# Question 2\n",
    "\n",
    "The list `num_customers` contains the number of customers who came into your restaurant every day over the last month (which lasted thirty days).  Fill in values for each of the following:\n",
    "- `avg_first_seven` - average number of customers who visited in the first seven days\n",
    "- `avg_last_seven` - average number of customers who visited in the last seven days\n",
    "- `max_month` - number of customers on the day that got the most customers in the last month\n",
    "- `min_month` - number of customers on the day that got the least customers in the last month\n",
    "\n",
    "Answer this question by writing code.  For instance, if you have to find the minimum value in a list, use `min()` instead of scanning for the smallest value and directly filling in a number."
   ]
  },
  {
   "cell_type": "code",
   "execution_count": 4,
   "id": "68d0b44a",
   "metadata": {
    "execution": {
     "iopub.execute_input": "2022-06-29T19:20:02.983788Z",
     "iopub.status.busy": "2022-06-29T19:20:02.983456Z",
     "iopub.status.idle": "2022-06-29T19:20:02.994200Z",
     "shell.execute_reply": "2022-06-29T19:20:02.993121Z"
    },
    "papermill": {
     "duration": 0.021992,
     "end_time": "2022-06-29T19:20:02.995977",
     "exception": false,
     "start_time": "2022-06-29T19:20:02.973985",
     "status": "completed"
    },
    "tags": []
   },
   "outputs": [
    {
     "data": {
      "application/javascript": [
       "parent.postMessage({\"jupyterEvent\": \"custom.exercise_interaction\", \"data\": {\"outcomeType\": 1, \"valueTowardsCompletion\": 0.2, \"interactionType\": 1, \"questionType\": 1, \"questionId\": \"2_NumCustomers\", \"learnToolsVersion\": \"0.3.4\", \"failureMessage\": \"\", \"exceptionClass\": \"\", \"trace\": \"\"}}, \"*\")"
      ],
      "text/plain": [
       "<IPython.core.display.Javascript object>"
      ]
     },
     "metadata": {},
     "output_type": "display_data"
    },
    {
     "data": {
      "text/markdown": [
       "<span style=\"color:#33cc33\">Correct</span>"
      ],
      "text/plain": [
       "Correct"
      ]
     },
     "metadata": {},
     "output_type": "display_data"
    }
   ],
   "source": [
    "# Do not change: Number of customers each day for the last month\n",
    "num_customers = [137, 147, 135, 128, 170, 174, 165, 146, 126, 159,\n",
    "                 141, 148, 132, 147, 168, 153, 170, 161, 148, 152,\n",
    "                 141, 151, 131, 149, 164, 163, 143, 143, 166, 171]\n",
    "\n",
    "# TODO: Fill in values for the variables below\n",
    "avg_first_seven = sum(num_customers[:7]) / 7\n",
    "avg_last_seven = sum(num_customers[-7:]) / 7\n",
    "max_month = max(num_customers)\n",
    "min_month = min(num_customers)\n",
    "\n",
    "# Do not change: Check your answer\n",
    "q2.check()"
   ]
  },
  {
   "cell_type": "code",
   "execution_count": 5,
   "id": "2886e76b",
   "metadata": {
    "execution": {
     "iopub.execute_input": "2022-06-29T19:20:03.015559Z",
     "iopub.status.busy": "2022-06-29T19:20:03.015036Z",
     "iopub.status.idle": "2022-06-29T19:20:03.018439Z",
     "shell.execute_reply": "2022-06-29T19:20:03.017751Z"
    },
    "papermill": {
     "duration": 0.015559,
     "end_time": "2022-06-29T19:20:03.020457",
     "exception": false,
     "start_time": "2022-06-29T19:20:03.004898",
     "status": "completed"
    },
    "tags": []
   },
   "outputs": [],
   "source": [
    "# Uncomment to see a hint\n",
    "#q2.hint()\n",
    "\n",
    "# Uncomment to see the solution\n",
    "#q2.solution()"
   ]
  },
  {
   "cell_type": "markdown",
   "id": "fe004b28",
   "metadata": {
    "papermill": {
     "duration": 0.008471,
     "end_time": "2022-06-29T19:20:03.037933",
     "exception": false,
     "start_time": "2022-06-29T19:20:03.029462",
     "status": "completed"
    },
    "tags": []
   },
   "source": [
    "# Question 3\n",
    "\n",
    "In the tutorial, we gave an example of a Python string with information that was better as a list."
   ]
  },
  {
   "cell_type": "code",
   "execution_count": 6,
   "id": "81370c9b",
   "metadata": {
    "execution": {
     "iopub.execute_input": "2022-06-29T19:20:03.056764Z",
     "iopub.status.busy": "2022-06-29T19:20:03.056472Z",
     "iopub.status.idle": "2022-06-29T19:20:03.059751Z",
     "shell.execute_reply": "2022-06-29T19:20:03.059213Z"
    },
    "papermill": {
     "duration": 0.014934,
     "end_time": "2022-06-29T19:20:03.061554",
     "exception": false,
     "start_time": "2022-06-29T19:20:03.046620",
     "status": "completed"
    },
    "tags": []
   },
   "outputs": [],
   "source": [
    "flowers = \"pink primrose,hard-leaved pocket orchid,canterbury bells,sweet pea,english marigold,tiger lily,moon orchid,bird of paradise,monkshood,globe thistle\""
   ]
  },
  {
   "cell_type": "markdown",
   "id": "147c8efe",
   "metadata": {
    "papermill": {
     "duration": 0.008527,
     "end_time": "2022-06-29T19:20:03.079338",
     "exception": false,
     "start_time": "2022-06-29T19:20:03.070811",
     "status": "completed"
    },
    "tags": []
   },
   "source": [
    "You can actually use Python to quickly turn this string into a list with `.split()`.  In the parentheses, we need to provide the character should be used to mark the end of one list item and the beginning of another, and enclose it in quotation marks.  In this case, that character is a comma."
   ]
  },
  {
   "cell_type": "code",
   "execution_count": 7,
   "id": "ca025d61",
   "metadata": {
    "execution": {
     "iopub.execute_input": "2022-06-29T19:20:03.098929Z",
     "iopub.status.busy": "2022-06-29T19:20:03.098404Z",
     "iopub.status.idle": "2022-06-29T19:20:03.103512Z",
     "shell.execute_reply": "2022-06-29T19:20:03.102349Z"
    },
    "papermill": {
     "duration": 0.016893,
     "end_time": "2022-06-29T19:20:03.105407",
     "exception": false,
     "start_time": "2022-06-29T19:20:03.088514",
     "status": "completed"
    },
    "tags": []
   },
   "outputs": [
    {
     "name": "stdout",
     "output_type": "stream",
     "text": [
      "['pink primrose', 'hard-leaved pocket orchid', 'canterbury bells', 'sweet pea', 'english marigold', 'tiger lily', 'moon orchid', 'bird of paradise', 'monkshood', 'globe thistle']\n"
     ]
    }
   ],
   "source": [
    " print(flowers.split(\",\"))"
   ]
  },
  {
   "cell_type": "markdown",
   "id": "d816b359",
   "metadata": {
    "papermill": {
     "duration": 0.008332,
     "end_time": "2022-06-29T19:20:03.122611",
     "exception": false,
     "start_time": "2022-06-29T19:20:03.114279",
     "status": "completed"
    },
    "tags": []
   },
   "source": [
    "Now it is your turn to try this out!  Create two Python lists:\n",
    "- `letters` should be a Python list where each entry is an uppercase letter of the English alphabet.  For instance, the first two entries should be `\"A\"` and `\"B\"`, and the final two entries should be `\"Y\"` and `\"Z\"`.  Use the string `alphabet` to create this list.\n",
    "- `address` should be a Python list where each row in `address` is a different item in the list.  Currently, each row in `address` is separated by a comma. "
   ]
  },
  {
   "cell_type": "code",
   "execution_count": 8,
   "id": "77da1084",
   "metadata": {
    "execution": {
     "iopub.execute_input": "2022-06-29T19:20:03.143319Z",
     "iopub.status.busy": "2022-06-29T19:20:03.142776Z",
     "iopub.status.idle": "2022-06-29T19:20:03.149715Z",
     "shell.execute_reply": "2022-06-29T19:20:03.148738Z"
    },
    "papermill": {
     "duration": 0.019358,
     "end_time": "2022-06-29T19:20:03.151718",
     "exception": false,
     "start_time": "2022-06-29T19:20:03.132360",
     "status": "completed"
    },
    "tags": []
   },
   "outputs": [
    {
     "data": {
      "application/javascript": [
       "parent.postMessage({\"jupyterEvent\": \"custom.exercise_interaction\", \"data\": {\"outcomeType\": 1, \"valueTowardsCompletion\": 0.2, \"interactionType\": 1, \"questionType\": 1, \"questionId\": \"3_SplitString\", \"learnToolsVersion\": \"0.3.4\", \"failureMessage\": \"\", \"exceptionClass\": \"\", \"trace\": \"\"}}, \"*\")"
      ],
      "text/plain": [
       "<IPython.core.display.Javascript object>"
      ]
     },
     "metadata": {},
     "output_type": "display_data"
    },
    {
     "data": {
      "text/markdown": [
       "<span style=\"color:#33cc33\">Correct</span>"
      ],
      "text/plain": [
       "Correct"
      ]
     },
     "metadata": {},
     "output_type": "display_data"
    }
   ],
   "source": [
    "# DO not change: Define two Python strings\n",
    "alphabet = \"A.B.C.D.E.F.G.H.I.J.K.L.M.N.O.P.Q.R.S.T.U.V.W.X.Y.Z\"\n",
    "address = \"Mr. H. Potter,The cupboard under the Stairs,4 Privet Drive,Little Whinging,Surrey\"\n",
    "\n",
    "# TODO: Convert strings into Python lists\n",
    "letters = alphabet.split(\".\")\n",
    "formatted_address = address.split(\",\")\n",
    "\n",
    "# Do not change: Check your answer\n",
    "q3.check()"
   ]
  },
  {
   "cell_type": "code",
   "execution_count": 9,
   "id": "33180a61",
   "metadata": {
    "execution": {
     "iopub.execute_input": "2022-06-29T19:20:03.171795Z",
     "iopub.status.busy": "2022-06-29T19:20:03.171322Z",
     "iopub.status.idle": "2022-06-29T19:20:03.174268Z",
     "shell.execute_reply": "2022-06-29T19:20:03.173709Z"
    },
    "papermill": {
     "duration": 0.014932,
     "end_time": "2022-06-29T19:20:03.176090",
     "exception": false,
     "start_time": "2022-06-29T19:20:03.161158",
     "status": "completed"
    },
    "tags": []
   },
   "outputs": [],
   "source": [
    "# Uncomment to see a hint\n",
    "#q3.hint()\n",
    "\n",
    "# Uncomment to see the solution\n",
    "#q3.solution()"
   ]
  },
  {
   "cell_type": "markdown",
   "id": "605e85dc",
   "metadata": {
    "papermill": {
     "duration": 0.009187,
     "end_time": "2022-06-29T19:20:03.195371",
     "exception": false,
     "start_time": "2022-06-29T19:20:03.186184",
     "status": "completed"
    },
    "tags": []
   },
   "source": [
    "# Question 4\n",
    "\n",
    "In the Python course, you'll learn all about **list comprehensions**, which allow you to create a list based on the values in another list.  In this question, you'll get a brief preview of how they work.\n",
    "\n",
    "Say we're working with the list below."
   ]
  },
  {
   "cell_type": "code",
   "execution_count": 10,
   "id": "3741eb5c",
   "metadata": {
    "execution": {
     "iopub.execute_input": "2022-06-29T19:20:03.216044Z",
     "iopub.status.busy": "2022-06-29T19:20:03.214613Z",
     "iopub.status.idle": "2022-06-29T19:20:03.219682Z",
     "shell.execute_reply": "2022-06-29T19:20:03.219054Z"
    },
    "papermill": {
     "duration": 0.016928,
     "end_time": "2022-06-29T19:20:03.221507",
     "exception": false,
     "start_time": "2022-06-29T19:20:03.204579",
     "status": "completed"
    },
    "tags": []
   },
   "outputs": [],
   "source": [
    "test_ratings = [1, 2, 3, 4, 5]"
   ]
  },
  {
   "cell_type": "markdown",
   "id": "8666ca45",
   "metadata": {
    "papermill": {
     "duration": 0.008552,
     "end_time": "2022-06-29T19:20:03.239362",
     "exception": false,
     "start_time": "2022-06-29T19:20:03.230810",
     "status": "completed"
    },
    "tags": []
   },
   "source": [
    "Then we can use this list (`test_ratings`) to create a new list (`test_liked`) where each item has been turned into a boolean, depending on whether or not the item is greater than or equal to four."
   ]
  },
  {
   "cell_type": "code",
   "execution_count": 11,
   "id": "126871a8",
   "metadata": {
    "execution": {
     "iopub.execute_input": "2022-06-29T19:20:03.259012Z",
     "iopub.status.busy": "2022-06-29T19:20:03.258224Z",
     "iopub.status.idle": "2022-06-29T19:20:03.262935Z",
     "shell.execute_reply": "2022-06-29T19:20:03.261904Z"
    },
    "papermill": {
     "duration": 0.017024,
     "end_time": "2022-06-29T19:20:03.265374",
     "exception": false,
     "start_time": "2022-06-29T19:20:03.248350",
     "status": "completed"
    },
    "tags": []
   },
   "outputs": [
    {
     "name": "stdout",
     "output_type": "stream",
     "text": [
      "[False, False, False, True, True]\n"
     ]
    }
   ],
   "source": [
    "test_liked = [i>=4 for i in test_ratings]\n",
    "print(test_liked)"
   ]
  },
  {
   "cell_type": "markdown",
   "id": "430e9a12",
   "metadata": {
    "papermill": {
     "duration": 0.008801,
     "end_time": "2022-06-29T19:20:03.283781",
     "exception": false,
     "start_time": "2022-06-29T19:20:03.274980",
     "status": "completed"
    },
    "tags": []
   },
   "source": [
    "In this question, you'll use this list comprehension to define a function `percentage_liked()` that takes one argument as input:\n",
    "- `ratings`: list of ratings that people gave to a movie, where each rating is a number between 1-5, inclusive\n",
    "\n",
    "We say someone liked the movie, if they gave a rating of either 4 or 5.  Your function should return the percentage of people who liked the movie.\n",
    "\n",
    "For instance, if we supply a value of `[1, 2, 3, 4, 5, 4, 5, 1]`, then 50% (4/8) of the people liked the movie, and the function should return `0.5`.\n",
    "\n",
    "Part of the function has already been completed for you.  You need only use `list_liked` to calculate `percentage_liked`."
   ]
  },
  {
   "cell_type": "code",
   "execution_count": 12,
   "id": "ffd08711",
   "metadata": {
    "execution": {
     "iopub.execute_input": "2022-06-29T19:20:03.303164Z",
     "iopub.status.busy": "2022-06-29T19:20:03.302799Z",
     "iopub.status.idle": "2022-06-29T19:20:03.310380Z",
     "shell.execute_reply": "2022-06-29T19:20:03.309694Z"
    },
    "papermill": {
     "duration": 0.020079,
     "end_time": "2022-06-29T19:20:03.312672",
     "exception": false,
     "start_time": "2022-06-29T19:20:03.292593",
     "status": "completed"
    },
    "tags": []
   },
   "outputs": [
    {
     "data": {
      "application/javascript": [
       "parent.postMessage({\"jupyterEvent\": \"custom.exercise_interaction\", \"data\": {\"outcomeType\": 1, \"valueTowardsCompletion\": 0.2, \"interactionType\": 1, \"questionType\": 2, \"questionId\": \"4_PercentageLiked\", \"learnToolsVersion\": \"0.3.4\", \"failureMessage\": \"\", \"exceptionClass\": \"\", \"trace\": \"\"}}, \"*\")"
      ],
      "text/plain": [
       "<IPython.core.display.Javascript object>"
      ]
     },
     "metadata": {},
     "output_type": "display_data"
    },
    {
     "data": {
      "text/markdown": [
       "<span style=\"color:#33cc33\">Correct</span>"
      ],
      "text/plain": [
       "Correct"
      ]
     },
     "metadata": {},
     "output_type": "display_data"
    }
   ],
   "source": [
    "\n",
    "def percentage_liked(ratings):\n",
    "    list_liked = [i>=4 for i in ratings]\n",
    "    # TODO: Complete the function\n",
    "    percentage_liked = sum(list_liked) / len(list_liked) \n",
    "    return percentage_liked\n",
    "\n",
    "# Do not change: should return 0.5\n",
    "percentage_liked([1, 2, 3, 4, 5, 4, 5, 1])\n",
    "\n",
    "# Do not change: Check your answer\n",
    "q4.check()"
   ]
  },
  {
   "cell_type": "code",
   "execution_count": 13,
   "id": "5cd3eafa",
   "metadata": {
    "execution": {
     "iopub.execute_input": "2022-06-29T19:20:03.333915Z",
     "iopub.status.busy": "2022-06-29T19:20:03.332910Z",
     "iopub.status.idle": "2022-06-29T19:20:03.342124Z",
     "shell.execute_reply": "2022-06-29T19:20:03.340942Z"
    },
    "papermill": {
     "duration": 0.022037,
     "end_time": "2022-06-29T19:20:03.344357",
     "exception": false,
     "start_time": "2022-06-29T19:20:03.322320",
     "status": "completed"
    },
    "tags": []
   },
   "outputs": [
    {
     "data": {
      "application/javascript": [
       "parent.postMessage({\"jupyterEvent\": \"custom.exercise_interaction\", \"data\": {\"interactionType\": 3, \"questionType\": 2, \"questionId\": \"4_PercentageLiked\", \"learnToolsVersion\": \"0.3.4\", \"valueTowardsCompletion\": 0.0, \"failureMessage\": \"\", \"exceptionClass\": \"\", \"trace\": \"\", \"outcomeType\": 4}}, \"*\")"
      ],
      "text/plain": [
       "<IPython.core.display.Javascript object>"
      ]
     },
     "metadata": {},
     "output_type": "display_data"
    },
    {
     "data": {
      "text/markdown": [
       "<span style=\"color:#33cc99\">Solution:</span> \n",
       "```python\n",
       "\n",
       "# Complete the function\n",
       "def percentage_liked(ratings):\n",
       "    list_liked = [i >= 4 for i in ratings]\n",
       "    percentage_liked = sum(list_liked)/len(list_liked)\n",
       "    return percentage_liked\n",
       "\n",
       "```"
      ],
      "text/plain": [
       "Solution: \n",
       "```python\n",
       "\n",
       "# Complete the function\n",
       "def percentage_liked(ratings):\n",
       "    list_liked = [i >= 4 for i in ratings]\n",
       "    percentage_liked = sum(list_liked)/len(list_liked)\n",
       "    return percentage_liked\n",
       "\n",
       "```"
      ]
     },
     "metadata": {},
     "output_type": "display_data"
    }
   ],
   "source": [
    "# Uncomment to see a hint\n",
    "#q4.hint()\n",
    "\n",
    "# Uncomment to see the solution\n",
    "q4.solution()"
   ]
  },
  {
   "cell_type": "markdown",
   "id": "a44eddd6",
   "metadata": {
    "papermill": {
     "duration": 0.009857,
     "end_time": "2022-06-29T19:20:03.364473",
     "exception": false,
     "start_time": "2022-06-29T19:20:03.354616",
     "status": "completed"
    },
    "tags": []
   },
   "source": [
    "# 🌶️ Question 5\n",
    " \n",
    "Say you're doing analytics for a website.  You need to write a function that returns the percentage growth in the total number of users relative to a specified number of years ago.\n",
    "\n",
    "Your function `percentage_growth()` should take two arguments as input:\n",
    "- `num_users` = Python list with the total number of users each year.  So `num_users[0]` is the total number of users in the first year, `num_users[1]` is the total number of users in the second year, and so on.  The final entry in the list gives the total number of users in the most recently completed year.\n",
    "- `yrs_ago` = number of years to go back in time when calculating the growth percentage\n",
    "\n",
    "For instance, say `num_users = [920344, 1043553, 1204334, 1458996, 1503323, 1593432, 1623463, 1843064, 1930992, 2001078]`.\n",
    "- if `yrs_ago = 1`, we want the function to return a value of about `0.036`. This corresponds to a percentage growth of approximately 3.6%, calculated as (2001078 - 1930992)/1930992.\n",
    "- if `years_ago = 7`, we would want to return approximately `0.66`.  This corresponds to a percentage growth of approximately 66%, calculated as (2001078 - 1204334)/1204334.\n",
    "\n",
    "Your coworker sent you a draft of a function, but it doesn't seem to be doing the correct calculation.  Can you figure out what has gone wrong and make the needed changes?"
   ]
  },
  {
   "cell_type": "code",
   "execution_count": 14,
   "id": "b4d4405d",
   "metadata": {
    "execution": {
     "iopub.execute_input": "2022-06-29T19:20:03.387001Z",
     "iopub.status.busy": "2022-06-29T19:20:03.386656Z",
     "iopub.status.idle": "2022-06-29T19:20:03.397662Z",
     "shell.execute_reply": "2022-06-29T19:20:03.396132Z"
    },
    "papermill": {
     "duration": 0.025849,
     "end_time": "2022-06-29T19:20:03.400677",
     "exception": false,
     "start_time": "2022-06-29T19:20:03.374828",
     "status": "completed"
    },
    "tags": []
   },
   "outputs": [
    {
     "name": "stdout",
     "output_type": "stream",
     "text": [
      "0.03629533421163837\n",
      "0.6615639847417742\n"
     ]
    },
    {
     "data": {
      "application/javascript": [
       "parent.postMessage({\"jupyterEvent\": \"custom.exercise_interaction\", \"data\": {\"outcomeType\": 1, \"valueTowardsCompletion\": 0.2, \"interactionType\": 1, \"questionType\": 2, \"questionId\": \"5_WebsiteAnalytics\", \"learnToolsVersion\": \"0.3.4\", \"failureMessage\": \"\", \"exceptionClass\": \"\", \"trace\": \"\"}}, \"*\")"
      ],
      "text/plain": [
       "<IPython.core.display.Javascript object>"
      ]
     },
     "metadata": {},
     "output_type": "display_data"
    },
    {
     "data": {
      "text/markdown": [
       "<span style=\"color:#33cc33\">Correct</span>"
      ],
      "text/plain": [
       "Correct"
      ]
     },
     "metadata": {},
     "output_type": "display_data"
    }
   ],
   "source": [
    "# TODO: Edit the function\n",
    "\n",
    "def percentage_growth(num_users, yrs_ago):\n",
    "    growth = (num_users[len(num_users)-1] - num_users[len(num_users)-yrs_ago-1])/num_users[len(num_users)-yrs_ago-1]\n",
    "    return growth\n",
    "\n",
    "# Do not change: Variable for calculating some test examples\n",
    "num_users_test = [920344, 1043553, 1204334, 1458996, 1503323, 1593432, 1623463, 1843064, 1930992, 2001078]\n",
    "\n",
    "# Do not change: Should return .036\n",
    "print(percentage_growth(num_users_test, 1)) \n",
    "\n",
    "# Do not change: Should return 0.66\n",
    "print(percentage_growth(num_users_test, 7))\n",
    "\n",
    "# Do not change: Check your answer\n",
    "q5.check()"
   ]
  },
  {
   "cell_type": "code",
   "execution_count": 15,
   "id": "776c94d4",
   "metadata": {
    "execution": {
     "iopub.execute_input": "2022-06-29T19:20:03.423400Z",
     "iopub.status.busy": "2022-06-29T19:20:03.423083Z",
     "iopub.status.idle": "2022-06-29T19:20:03.435196Z",
     "shell.execute_reply": "2022-06-29T19:20:03.434098Z"
    },
    "papermill": {
     "duration": 0.026195,
     "end_time": "2022-06-29T19:20:03.437349",
     "exception": false,
     "start_time": "2022-06-29T19:20:03.411154",
     "status": "completed"
    },
    "tags": []
   },
   "outputs": [
    {
     "data": {
      "application/javascript": [
       "parent.postMessage({\"jupyterEvent\": \"custom.exercise_interaction\", \"data\": {\"interactionType\": 2, \"questionType\": 2, \"questionId\": \"5_WebsiteAnalytics\", \"learnToolsVersion\": \"0.3.4\", \"valueTowardsCompletion\": 0.0, \"failureMessage\": \"\", \"exceptionClass\": \"\", \"trace\": \"\", \"outcomeType\": 4}}, \"*\")"
      ],
      "text/plain": [
       "<IPython.core.display.Javascript object>"
      ]
     },
     "metadata": {},
     "output_type": "display_data"
    },
    {
     "data": {
      "text/markdown": [
       "<span style=\"color:#3366cc\">Hint:</span> It's already correct that you need to subtract two numbers from the list, before dividing by an item in the list. You only need to modify the positions for the items that are pulled from the list. \n",
       "\n",
       "In order to pull the final entry in the `num_users` list, you would need to use `num_users[len(num_users)-1]`.  This corresponds to the number of users in the most recently completed year.  \n",
       "\n",
       "Then, to get the number of users from one year prior, you should use `num_users[len(num_users)-2]`.  \n",
       "\n",
       "To get the number of users from `yrs_ago` years ago, use `num_users[len(num_users)-yrs_ago-1]`."
      ],
      "text/plain": [
       "Hint: It's already correct that you need to subtract two numbers from the list, before dividing by an item in the list. You only need to modify the positions for the items that are pulled from the list. \n",
       "\n",
       "In order to pull the final entry in the `num_users` list, you would need to use `num_users[len(num_users)-1]`.  This corresponds to the number of users in the most recently completed year.  \n",
       "\n",
       "Then, to get the number of users from one year prior, you should use `num_users[len(num_users)-2]`.  \n",
       "\n",
       "To get the number of users from `yrs_ago` years ago, use `num_users[len(num_users)-yrs_ago-1]`."
      ]
     },
     "metadata": {},
     "output_type": "display_data"
    },
    {
     "data": {
      "application/javascript": [
       "parent.postMessage({\"jupyterEvent\": \"custom.exercise_interaction\", \"data\": {\"interactionType\": 3, \"questionType\": 2, \"questionId\": \"5_WebsiteAnalytics\", \"learnToolsVersion\": \"0.3.4\", \"valueTowardsCompletion\": 0.0, \"failureMessage\": \"\", \"exceptionClass\": \"\", \"trace\": \"\", \"outcomeType\": 4}}, \"*\")"
      ],
      "text/plain": [
       "<IPython.core.display.Javascript object>"
      ]
     },
     "metadata": {},
     "output_type": "display_data"
    },
    {
     "data": {
      "text/markdown": [
       "<span style=\"color:#33cc99\">Solution:</span> \n",
       "```python\n",
       "def percentage_growth(num_users, yrs_ago):\n",
       "    growth = (num_users[len(num_users)-1] - num_users[len(num_users)-yrs_ago-1])/num_users[len(num_users)-yrs_ago-1]\n",
       "    return growth\n",
       "\n",
       "```"
      ],
      "text/plain": [
       "Solution: \n",
       "```python\n",
       "def percentage_growth(num_users, yrs_ago):\n",
       "    growth = (num_users[len(num_users)-1] - num_users[len(num_users)-yrs_ago-1])/num_users[len(num_users)-yrs_ago-1]\n",
       "    return growth\n",
       "\n",
       "```"
      ]
     },
     "metadata": {},
     "output_type": "display_data"
    }
   ],
   "source": [
    "# Uncomment to see a hint\n",
    "q5.hint()\n",
    "\n",
    "# Uncomment to see the solution\n",
    "q5.solution()"
   ]
  },
  {
   "cell_type": "markdown",
   "id": "117f8227",
   "metadata": {
    "papermill": {
     "duration": 0.011055,
     "end_time": "2022-06-29T19:20:03.459514",
     "exception": false,
     "start_time": "2022-06-29T19:20:03.448459",
     "status": "completed"
    },
    "tags": []
   },
   "source": [
    "# Congratulations!\n",
    "\n",
    "Congratulations for finishing the Intro to Programming course!  You should be proud of your very first steps with learning programming.  As next steps, we recommend taking:\n",
    "- the **[Python course](http://www.kaggle.com/learn/python)**, and \n",
    "- the **[Intro to Machine Learning course](https://www.kaggle.com/learn/intro-to-machine-learning)**."
   ]
  },
  {
   "cell_type": "markdown",
   "id": "fc1cad23",
   "metadata": {
    "papermill": {
     "duration": 0.011029,
     "end_time": "2022-06-29T19:20:03.482634",
     "exception": false,
     "start_time": "2022-06-29T19:20:03.471605",
     "status": "completed"
    },
    "tags": []
   },
   "source": [
    "---\n",
    "\n",
    "\n",
    "\n",
    "\n",
    "*Have questions or comments? Visit the [course discussion forum](https://www.kaggle.com/learn/intro-to-programming/discussion) to chat with other learners.*"
   ]
  }
 ],
 "metadata": {
  "kernelspec": {
   "display_name": "Python 3",
   "language": "python",
   "name": "python3"
  },
  "language_info": {
   "codemirror_mode": {
    "name": "ipython",
    "version": 3
   },
   "file_extension": ".py",
   "mimetype": "text/x-python",
   "name": "python",
   "nbconvert_exporter": "python",
   "pygments_lexer": "ipython3",
   "version": "3.7.12"
  },
  "papermill": {
   "default_parameters": {},
   "duration": 12.100067,
   "end_time": "2022-06-29T19:20:04.319652",
   "environment_variables": {},
   "exception": null,
   "input_path": "__notebook__.ipynb",
   "output_path": "__notebook__.ipynb",
   "parameters": {},
   "start_time": "2022-06-29T19:19:52.219585",
   "version": "2.3.4"
  }
 },
 "nbformat": 4,
 "nbformat_minor": 5
}
