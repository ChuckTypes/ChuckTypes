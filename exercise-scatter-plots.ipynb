{
 "cells": [
  {
   "cell_type": "markdown",
   "id": "5b787922",
   "metadata": {
    "papermill": {
     "duration": 0.010708,
     "end_time": "2022-07-04T16:38:31.969619",
     "exception": false,
     "start_time": "2022-07-04T16:38:31.958911",
     "status": "completed"
    },
    "tags": []
   },
   "source": [
    "**This notebook is an exercise in the [Data Visualization](https://www.kaggle.com/learn/data-visualization) course.  You can reference the tutorial at [this link](https://www.kaggle.com/alexisbcook/scatter-plots).**\n",
    "\n",
    "---\n"
   ]
  },
  {
   "cell_type": "markdown",
   "id": "c2fad67c",
   "metadata": {
    "papermill": {
     "duration": 0.009278,
     "end_time": "2022-07-04T16:38:31.988809",
     "exception": false,
     "start_time": "2022-07-04T16:38:31.979531",
     "status": "completed"
    },
    "tags": []
   },
   "source": [
    "In this exercise, you will use your new knowledge to propose a solution to a real-world scenario.  To succeed, you will need to import data into Python, answer questions using the data, and generate **scatter plots** to understand patterns in the data.\n",
    "\n",
    "## Scenario\n",
    "\n",
    "You work for a major candy producer, and your goal is to write a report that your company can use to guide the design of its next product.  Soon after starting your research, you stumble across this [very interesting dataset](https://fivethirtyeight.com/features/the-ultimate-halloween-candy-power-ranking/) containing results from a fun survey to crowdsource favorite candies.\n",
    "\n",
    "## Setup\n",
    "\n",
    "Run the next cell to import and configure the Python libraries that you need to complete the exercise."
   ]
  },
  {
   "cell_type": "code",
   "execution_count": 1,
   "id": "1bbd7d5b",
   "metadata": {
    "execution": {
     "iopub.execute_input": "2022-07-04T16:38:32.010253Z",
     "iopub.status.busy": "2022-07-04T16:38:32.009369Z",
     "iopub.status.idle": "2022-07-04T16:38:33.327309Z",
     "shell.execute_reply": "2022-07-04T16:38:33.326122Z"
    },
    "papermill": {
     "duration": 1.3331,
     "end_time": "2022-07-04T16:38:33.331375",
     "exception": false,
     "start_time": "2022-07-04T16:38:31.998275",
     "status": "completed"
    },
    "tags": []
   },
   "outputs": [
    {
     "name": "stdout",
     "output_type": "stream",
     "text": [
      "Setup Complete\n"
     ]
    }
   ],
   "source": [
    "import pandas as pd\n",
    "pd.plotting.register_matplotlib_converters()\n",
    "import matplotlib.pyplot as plt\n",
    "%matplotlib inline\n",
    "import seaborn as sns\n",
    "print(\"Setup Complete\")"
   ]
  },
  {
   "cell_type": "markdown",
   "id": "099982d7",
   "metadata": {
    "papermill": {
     "duration": 0.009424,
     "end_time": "2022-07-04T16:38:33.351207",
     "exception": false,
     "start_time": "2022-07-04T16:38:33.341783",
     "status": "completed"
    },
    "tags": []
   },
   "source": [
    "The questions below will give you feedback on your work. Run the following cell to set up our feedback system."
   ]
  },
  {
   "cell_type": "code",
   "execution_count": 2,
   "id": "831ccab1",
   "metadata": {
    "execution": {
     "iopub.execute_input": "2022-07-04T16:38:33.372629Z",
     "iopub.status.busy": "2022-07-04T16:38:33.372196Z",
     "iopub.status.idle": "2022-07-04T16:38:33.450724Z",
     "shell.execute_reply": "2022-07-04T16:38:33.449206Z"
    },
    "papermill": {
     "duration": 0.093509,
     "end_time": "2022-07-04T16:38:33.454477",
     "exception": false,
     "start_time": "2022-07-04T16:38:33.360968",
     "status": "completed"
    },
    "tags": []
   },
   "outputs": [
    {
     "name": "stdout",
     "output_type": "stream",
     "text": [
      "Setup Complete\n"
     ]
    }
   ],
   "source": [
    "# Set up code checking\n",
    "import os\n",
    "if not os.path.exists(\"../input/candy.csv\"):\n",
    "    os.symlink(\"../input/data-for-datavis/candy.csv\", \"../input/candy.csv\") \n",
    "from learntools.core import binder\n",
    "binder.bind(globals())\n",
    "from learntools.data_viz_to_coder.ex4 import *\n",
    "print(\"Setup Complete\")"
   ]
  },
  {
   "cell_type": "markdown",
   "id": "669f5c34",
   "metadata": {
    "papermill": {
     "duration": 0.009856,
     "end_time": "2022-07-04T16:38:33.474612",
     "exception": false,
     "start_time": "2022-07-04T16:38:33.464756",
     "status": "completed"
    },
    "tags": []
   },
   "source": [
    "## Step 1: Load the Data\n",
    "\n",
    "Read the candy data file into `candy_data`.  Use the `\"id\"` column to label the rows."
   ]
  },
  {
   "cell_type": "code",
   "execution_count": 3,
   "id": "0cc82320",
   "metadata": {
    "execution": {
     "iopub.execute_input": "2022-07-04T16:38:33.496122Z",
     "iopub.status.busy": "2022-07-04T16:38:33.495736Z",
     "iopub.status.idle": "2022-07-04T16:38:33.513660Z",
     "shell.execute_reply": "2022-07-04T16:38:33.512555Z"
    },
    "papermill": {
     "duration": 0.031313,
     "end_time": "2022-07-04T16:38:33.515886",
     "exception": false,
     "start_time": "2022-07-04T16:38:33.484573",
     "status": "completed"
    },
    "tags": []
   },
   "outputs": [
    {
     "data": {
      "application/javascript": [
       "parent.postMessage({\"jupyterEvent\": \"custom.exercise_interaction\", \"data\": {\"outcomeType\": 1, \"valueTowardsCompletion\": 0.3333333333333333, \"interactionType\": 1, \"questionType\": 1, \"questionId\": \"1_LoadData\", \"learnToolsVersion\": \"0.3.4\", \"failureMessage\": \"\", \"exceptionClass\": \"\", \"trace\": \"\"}}, \"*\")"
      ],
      "text/plain": [
       "<IPython.core.display.Javascript object>"
      ]
     },
     "metadata": {},
     "output_type": "display_data"
    },
    {
     "data": {
      "text/markdown": [
       "<span style=\"color:#33cc33\">Correct</span>"
      ],
      "text/plain": [
       "Correct"
      ]
     },
     "metadata": {},
     "output_type": "display_data"
    }
   ],
   "source": [
    "# Path of the file to read\n",
    "candy_filepath = \"../input/candy.csv\"\n",
    "\n",
    "# Fill in the line below to read the file into a variable candy_data\n",
    "candy_data = pd.read_csv(candy_filepath, index_col='id')\n",
    "\n",
    "# Run the line below with no changes to check that you've loaded the data correctly\n",
    "step_1.check()"
   ]
  },
  {
   "cell_type": "code",
   "execution_count": 4,
   "id": "1df794b7",
   "metadata": {
    "execution": {
     "iopub.execute_input": "2022-07-04T16:38:33.537846Z",
     "iopub.status.busy": "2022-07-04T16:38:33.537394Z",
     "iopub.status.idle": "2022-07-04T16:38:33.542317Z",
     "shell.execute_reply": "2022-07-04T16:38:33.540989Z"
    },
    "papermill": {
     "duration": 0.018733,
     "end_time": "2022-07-04T16:38:33.544710",
     "exception": false,
     "start_time": "2022-07-04T16:38:33.525977",
     "status": "completed"
    },
    "tags": []
   },
   "outputs": [],
   "source": [
    "# Lines below will give you a hint or solution code\n",
    "#step_1.hint()\n",
    "#step_1.solution()"
   ]
  },
  {
   "cell_type": "markdown",
   "id": "dea489d1",
   "metadata": {
    "papermill": {
     "duration": 0.009611,
     "end_time": "2022-07-04T16:38:33.565095",
     "exception": false,
     "start_time": "2022-07-04T16:38:33.555484",
     "status": "completed"
    },
    "tags": []
   },
   "source": [
    "## Step 2: Review the data\n",
    "\n",
    "Use a Python command to print the first five rows of the data."
   ]
  },
  {
   "cell_type": "code",
   "execution_count": 5,
   "id": "3d25c9f5",
   "metadata": {
    "execution": {
     "iopub.execute_input": "2022-07-04T16:38:33.586965Z",
     "iopub.status.busy": "2022-07-04T16:38:33.586291Z",
     "iopub.status.idle": "2022-07-04T16:38:33.609842Z",
     "shell.execute_reply": "2022-07-04T16:38:33.608664Z"
    },
    "papermill": {
     "duration": 0.037093,
     "end_time": "2022-07-04T16:38:33.612209",
     "exception": false,
     "start_time": "2022-07-04T16:38:33.575116",
     "status": "completed"
    },
    "tags": []
   },
   "outputs": [
    {
     "data": {
      "text/html": [
       "<div>\n",
       "<style scoped>\n",
       "    .dataframe tbody tr th:only-of-type {\n",
       "        vertical-align: middle;\n",
       "    }\n",
       "\n",
       "    .dataframe tbody tr th {\n",
       "        vertical-align: top;\n",
       "    }\n",
       "\n",
       "    .dataframe thead th {\n",
       "        text-align: right;\n",
       "    }\n",
       "</style>\n",
       "<table border=\"1\" class=\"dataframe\">\n",
       "  <thead>\n",
       "    <tr style=\"text-align: right;\">\n",
       "      <th></th>\n",
       "      <th>competitorname</th>\n",
       "      <th>chocolate</th>\n",
       "      <th>fruity</th>\n",
       "      <th>caramel</th>\n",
       "      <th>peanutyalmondy</th>\n",
       "      <th>nougat</th>\n",
       "      <th>crispedricewafer</th>\n",
       "      <th>hard</th>\n",
       "      <th>bar</th>\n",
       "      <th>pluribus</th>\n",
       "      <th>sugarpercent</th>\n",
       "      <th>pricepercent</th>\n",
       "      <th>winpercent</th>\n",
       "    </tr>\n",
       "    <tr>\n",
       "      <th>id</th>\n",
       "      <th></th>\n",
       "      <th></th>\n",
       "      <th></th>\n",
       "      <th></th>\n",
       "      <th></th>\n",
       "      <th></th>\n",
       "      <th></th>\n",
       "      <th></th>\n",
       "      <th></th>\n",
       "      <th></th>\n",
       "      <th></th>\n",
       "      <th></th>\n",
       "      <th></th>\n",
       "    </tr>\n",
       "  </thead>\n",
       "  <tbody>\n",
       "    <tr>\n",
       "      <th>0</th>\n",
       "      <td>100 Grand</td>\n",
       "      <td>Yes</td>\n",
       "      <td>No</td>\n",
       "      <td>Yes</td>\n",
       "      <td>No</td>\n",
       "      <td>No</td>\n",
       "      <td>Yes</td>\n",
       "      <td>No</td>\n",
       "      <td>Yes</td>\n",
       "      <td>No</td>\n",
       "      <td>0.732</td>\n",
       "      <td>0.860</td>\n",
       "      <td>66.971725</td>\n",
       "    </tr>\n",
       "    <tr>\n",
       "      <th>1</th>\n",
       "      <td>3 Musketeers</td>\n",
       "      <td>Yes</td>\n",
       "      <td>No</td>\n",
       "      <td>No</td>\n",
       "      <td>No</td>\n",
       "      <td>Yes</td>\n",
       "      <td>No</td>\n",
       "      <td>No</td>\n",
       "      <td>Yes</td>\n",
       "      <td>No</td>\n",
       "      <td>0.604</td>\n",
       "      <td>0.511</td>\n",
       "      <td>67.602936</td>\n",
       "    </tr>\n",
       "    <tr>\n",
       "      <th>2</th>\n",
       "      <td>Air Heads</td>\n",
       "      <td>No</td>\n",
       "      <td>Yes</td>\n",
       "      <td>No</td>\n",
       "      <td>No</td>\n",
       "      <td>No</td>\n",
       "      <td>No</td>\n",
       "      <td>No</td>\n",
       "      <td>No</td>\n",
       "      <td>No</td>\n",
       "      <td>0.906</td>\n",
       "      <td>0.511</td>\n",
       "      <td>52.341465</td>\n",
       "    </tr>\n",
       "    <tr>\n",
       "      <th>3</th>\n",
       "      <td>Almond Joy</td>\n",
       "      <td>Yes</td>\n",
       "      <td>No</td>\n",
       "      <td>No</td>\n",
       "      <td>Yes</td>\n",
       "      <td>No</td>\n",
       "      <td>No</td>\n",
       "      <td>No</td>\n",
       "      <td>Yes</td>\n",
       "      <td>No</td>\n",
       "      <td>0.465</td>\n",
       "      <td>0.767</td>\n",
       "      <td>50.347546</td>\n",
       "    </tr>\n",
       "    <tr>\n",
       "      <th>4</th>\n",
       "      <td>Baby Ruth</td>\n",
       "      <td>Yes</td>\n",
       "      <td>No</td>\n",
       "      <td>Yes</td>\n",
       "      <td>Yes</td>\n",
       "      <td>Yes</td>\n",
       "      <td>No</td>\n",
       "      <td>No</td>\n",
       "      <td>Yes</td>\n",
       "      <td>No</td>\n",
       "      <td>0.604</td>\n",
       "      <td>0.767</td>\n",
       "      <td>56.914547</td>\n",
       "    </tr>\n",
       "  </tbody>\n",
       "</table>\n",
       "</div>"
      ],
      "text/plain": [
       "   competitorname chocolate fruity caramel peanutyalmondy nougat  \\\n",
       "id                                                                 \n",
       "0       100 Grand       Yes     No     Yes             No     No   \n",
       "1    3 Musketeers       Yes     No      No             No    Yes   \n",
       "2       Air Heads        No    Yes      No             No     No   \n",
       "3      Almond Joy       Yes     No      No            Yes     No   \n",
       "4       Baby Ruth       Yes     No     Yes            Yes    Yes   \n",
       "\n",
       "   crispedricewafer hard  bar pluribus  sugarpercent  pricepercent  winpercent  \n",
       "id                                                                              \n",
       "0               Yes   No  Yes       No         0.732         0.860   66.971725  \n",
       "1                No   No  Yes       No         0.604         0.511   67.602936  \n",
       "2                No   No   No       No         0.906         0.511   52.341465  \n",
       "3                No   No  Yes       No         0.465         0.767   50.347546  \n",
       "4                No   No  Yes       No         0.604         0.767   56.914547  "
      ]
     },
     "execution_count": 5,
     "metadata": {},
     "output_type": "execute_result"
    }
   ],
   "source": [
    "# Print the first five rows of the data\n",
    "candy_data.head() # Your code here"
   ]
  },
  {
   "cell_type": "markdown",
   "id": "3d9624fc",
   "metadata": {
    "papermill": {
     "duration": 0.009945,
     "end_time": "2022-07-04T16:38:33.632743",
     "exception": false,
     "start_time": "2022-07-04T16:38:33.622798",
     "status": "completed"
    },
    "tags": []
   },
   "source": [
    "The dataset contains 83 rows, where each corresponds to a different candy bar.  There are 13 columns:\n",
    "- `'competitorname'` contains the name of the candy bar. \n",
    "- the next **9** columns (from `'chocolate'` to `'pluribus'`) describe the candy.  For instance, rows with chocolate candies have `\"Yes\"` in the `'chocolate'` column (and candies without chocolate have `\"No\"` in the same column).\n",
    "- `'sugarpercent'` provides some indication of the amount of sugar, where higher values signify higher sugar content.\n",
    "- `'pricepercent'` shows the price per unit, relative to the other candies in the dataset.\n",
    "- `'winpercent'` is calculated from the survey results; higher values indicate that the candy was more popular with survey respondents.\n",
    "\n",
    "Use the first five rows of the data to answer the questions below."
   ]
  },
  {
   "cell_type": "code",
   "execution_count": 6,
   "id": "ab860fb5",
   "metadata": {
    "execution": {
     "iopub.execute_input": "2022-07-04T16:38:33.655230Z",
     "iopub.status.busy": "2022-07-04T16:38:33.654855Z",
     "iopub.status.idle": "2022-07-04T16:38:33.664706Z",
     "shell.execute_reply": "2022-07-04T16:38:33.663539Z"
    },
    "papermill": {
     "duration": 0.024018,
     "end_time": "2022-07-04T16:38:33.666935",
     "exception": false,
     "start_time": "2022-07-04T16:38:33.642917",
     "status": "completed"
    },
    "tags": []
   },
   "outputs": [
    {
     "data": {
      "application/javascript": [
       "parent.postMessage({\"jupyterEvent\": \"custom.exercise_interaction\", \"data\": {\"outcomeType\": 1, \"valueTowardsCompletion\": 0.3333333333333333, \"interactionType\": 1, \"questionType\": 1, \"questionId\": \"2_ReviewData\", \"learnToolsVersion\": \"0.3.4\", \"failureMessage\": \"\", \"exceptionClass\": \"\", \"trace\": \"\"}}, \"*\")"
      ],
      "text/plain": [
       "<IPython.core.display.Javascript object>"
      ]
     },
     "metadata": {},
     "output_type": "display_data"
    },
    {
     "data": {
      "text/markdown": [
       "<span style=\"color:#33cc33\">Correct</span>"
      ],
      "text/plain": [
       "Correct"
      ]
     },
     "metadata": {},
     "output_type": "display_data"
    }
   ],
   "source": [
    "# Fill in the line below: Which candy was more popular with survey respondents:\n",
    "# '3 Musketeers' or 'Almond Joy'?  (Please enclose your answer in single quotes.)\n",
    "more_popular = '3 Musketeers'\n",
    "\n",
    "# Fill in the line below: Which candy has higher sugar content: 'Air Heads'\n",
    "# or 'Baby Ruth'? (Please enclose your answer in single quotes.)\n",
    "more_sugar = 'Air Heads'\n",
    "\n",
    "# Check your answers\n",
    "step_2.check()"
   ]
  },
  {
   "cell_type": "code",
   "execution_count": 7,
   "id": "e01f868e",
   "metadata": {
    "execution": {
     "iopub.execute_input": "2022-07-04T16:38:33.690179Z",
     "iopub.status.busy": "2022-07-04T16:38:33.689795Z",
     "iopub.status.idle": "2022-07-04T16:38:33.694649Z",
     "shell.execute_reply": "2022-07-04T16:38:33.693496Z"
    },
    "papermill": {
     "duration": 0.018906,
     "end_time": "2022-07-04T16:38:33.696832",
     "exception": false,
     "start_time": "2022-07-04T16:38:33.677926",
     "status": "completed"
    },
    "tags": []
   },
   "outputs": [],
   "source": [
    "# Lines below will give you a hint or solution code\n",
    "#step_2.hint()\n",
    "#step_2.solution()"
   ]
  },
  {
   "cell_type": "markdown",
   "id": "23c92e0d",
   "metadata": {
    "papermill": {
     "duration": 0.010316,
     "end_time": "2022-07-04T16:38:33.717923",
     "exception": false,
     "start_time": "2022-07-04T16:38:33.707607",
     "status": "completed"
    },
    "tags": []
   },
   "source": [
    "## Step 3: The role of sugar\n",
    "\n",
    "Do people tend to prefer candies with higher sugar content?  \n",
    "\n",
    "#### Part A\n",
    "\n",
    "Create a scatter plot that shows the relationship between `'sugarpercent'` (on the horizontal x-axis) and `'winpercent'` (on the vertical y-axis).  _Don't add a regression line just yet -- you'll do that in the next step!_"
   ]
  },
  {
   "cell_type": "code",
   "execution_count": 8,
   "id": "f8ea93c6",
   "metadata": {
    "execution": {
     "iopub.execute_input": "2022-07-04T16:38:33.740788Z",
     "iopub.status.busy": "2022-07-04T16:38:33.740381Z",
     "iopub.status.idle": "2022-07-04T16:38:33.982739Z",
     "shell.execute_reply": "2022-07-04T16:38:33.981523Z"
    },
    "papermill": {
     "duration": 0.257111,
     "end_time": "2022-07-04T16:38:33.985727",
     "exception": false,
     "start_time": "2022-07-04T16:38:33.728616",
     "status": "completed"
    },
    "tags": []
   },
   "outputs": [
    {
     "data": {
      "application/javascript": [
       "parent.postMessage({\"jupyterEvent\": \"custom.exercise_interaction\", \"data\": {\"outcomeType\": 1, \"valueTowardsCompletion\": 0.3333333333333333, \"interactionType\": 1, \"questionType\": 2, \"questionId\": \"3.1_PlotBlueScatter\", \"learnToolsVersion\": \"0.3.4\", \"failureMessage\": \"\", \"exceptionClass\": \"\", \"trace\": \"\"}}, \"*\")"
      ],
      "text/plain": [
       "<IPython.core.display.Javascript object>"
      ]
     },
     "metadata": {},
     "output_type": "display_data"
    },
    {
     "data": {
      "text/markdown": [
       "<span style=\"color:#33cc33\">Correct</span>"
      ],
      "text/plain": [
       "Correct"
      ]
     },
     "metadata": {},
     "output_type": "display_data"
    },
    {
     "data": {
      "image/png": "[encoded data removed]",
      "text/plain": [
       "<Figure size 432x288 with 1 Axes>"
      ]
     },
     "metadata": {
      "needs_background": "light"
     },
     "output_type": "display_data"
    }
   ],
   "source": [
    "# Scatter plot showing the relationship between 'sugarpercent' and 'winpercent'\n",
    "sns.scatterplot(x = candy_data['sugarpercent'], y = candy_data['winpercent'], color = 'red')\n",
    "\n",
    "# Check your answer\n",
    "step_3.a.check()"
   ]
  },
  {
   "cell_type": "code",
   "execution_count": 9,
   "id": "a787c30a",
   "metadata": {
    "execution": {
     "iopub.execute_input": "2022-07-04T16:38:34.010749Z",
     "iopub.status.busy": "2022-07-04T16:38:34.009647Z",
     "iopub.status.idle": "2022-07-04T16:38:34.014549Z",
     "shell.execute_reply": "2022-07-04T16:38:34.013778Z"
    },
    "papermill": {
     "duration": 0.019538,
     "end_time": "2022-07-04T16:38:34.016611",
     "exception": false,
     "start_time": "2022-07-04T16:38:33.997073",
     "status": "completed"
    },
    "tags": []
   },
   "outputs": [],
   "source": [
    "# Lines below will give you a hint or solution code\n",
    "#step_3.a.hint()\n",
    "#step_3.a.solution_plot()"
   ]
  },
  {
   "cell_type": "markdown",
   "id": "d29a012a",
   "metadata": {
    "papermill": {
     "duration": 0.010807,
     "end_time": "2022-07-04T16:38:34.038550",
     "exception": false,
     "start_time": "2022-07-04T16:38:34.027743",
     "status": "completed"
    },
    "tags": []
   },
   "source": [
    "#### Part B\n",
    "\n",
    "Does the scatter plot show a **strong** correlation between the two variables?  If so, are candies with more sugar relatively more or less popular with the survey respondents?"
   ]
  },
  {
   "cell_type": "code",
   "execution_count": 10,
   "id": "6303331a",
   "metadata": {
    "execution": {
     "iopub.execute_input": "2022-07-04T16:38:34.063056Z",
     "iopub.status.busy": "2022-07-04T16:38:34.062403Z",
     "iopub.status.idle": "2022-07-04T16:38:34.067309Z",
     "shell.execute_reply": "2022-07-04T16:38:34.066528Z"
    },
    "papermill": {
     "duration": 0.019734,
     "end_time": "2022-07-04T16:38:34.069488",
     "exception": false,
     "start_time": "2022-07-04T16:38:34.049754",
     "status": "completed"
    },
    "tags": []
   },
   "outputs": [],
   "source": [
    "#step_3.b.hint()"
   ]
  },
  {
   "cell_type": "code",
   "execution_count": 11,
   "id": "1ab3bd95",
   "metadata": {
    "execution": {
     "iopub.execute_input": "2022-07-04T16:38:34.094234Z",
     "iopub.status.busy": "2022-07-04T16:38:34.093566Z",
     "iopub.status.idle": "2022-07-04T16:38:34.101001Z",
     "shell.execute_reply": "2022-07-04T16:38:34.100012Z"
    },
    "papermill": {
     "duration": 0.022411,
     "end_time": "2022-07-04T16:38:34.103065",
     "exception": false,
     "start_time": "2022-07-04T16:38:34.080654",
     "status": "completed"
    },
    "tags": []
   },
   "outputs": [
    {
     "data": {
      "application/javascript": [
       "parent.postMessage({\"jupyterEvent\": \"custom.exercise_interaction\", \"data\": {\"interactionType\": 3, \"questionType\": 4, \"questionId\": \"3.2_ThinkBlueScatter\", \"learnToolsVersion\": \"0.3.4\", \"valueTowardsCompletion\": 0.0, \"failureMessage\": \"\", \"exceptionClass\": \"\", \"trace\": \"\", \"outcomeType\": 4}}, \"*\")"
      ],
      "text/plain": [
       "<IPython.core.display.Javascript object>"
      ]
     },
     "metadata": {},
     "output_type": "display_data"
    },
    {
     "data": {
      "text/markdown": [
       "<span style=\"color:#33cc99\">Solution:</span> The scatter plot does not show a strong correlation between the two variables. Since there is no clear relationship between the two variables, this tells us that sugar content does not play a strong role in candy popularity."
      ],
      "text/plain": [
       "Solution: The scatter plot does not show a strong correlation between the two variables. Since there is no clear relationship between the two variables, this tells us that sugar content does not play a strong role in candy popularity."
      ]
     },
     "metadata": {},
     "output_type": "display_data"
    }
   ],
   "source": [
    "# Check your answer (Run this code cell to receive credit!)\n",
    "step_3.b.solution()"
   ]
  },
  {
   "cell_type": "markdown",
   "id": "eb387d6b",
   "metadata": {
    "papermill": {
     "duration": 0.011102,
     "end_time": "2022-07-04T16:38:34.125628",
     "exception": false,
     "start_time": "2022-07-04T16:38:34.114526",
     "status": "completed"
    },
    "tags": []
   },
   "source": [
    "## Step 4: Take a closer look\n",
    "\n",
    "#### Part A\n",
    "\n",
    "Create the same scatter plot you created in **Step 3**, but now with a regression line!"
   ]
  },
  {
   "cell_type": "code",
   "execution_count": 12,
   "id": "10ddd18a",
   "metadata": {
    "execution": {
     "iopub.execute_input": "2022-07-04T16:38:34.151584Z",
     "iopub.status.busy": "2022-07-04T16:38:34.150916Z",
     "iopub.status.idle": "2022-07-04T16:38:34.455605Z",
     "shell.execute_reply": "2022-07-04T16:38:34.454484Z"
    },
    "papermill": {
     "duration": 0.320231,
     "end_time": "2022-07-04T16:38:34.458285",
     "exception": false,
     "start_time": "2022-07-04T16:38:34.138054",
     "status": "completed"
    },
    "tags": []
   },
   "outputs": [
    {
     "data": {
      "application/javascript": [
       "parent.postMessage({\"jupyterEvent\": \"custom.exercise_interaction\", \"data\": {\"outcomeType\": 1, \"valueTowardsCompletion\": 0.3333333333333333, \"interactionType\": 1, \"questionType\": 2, \"questionId\": \"4.1_PlotBlueReg\", \"learnToolsVersion\": \"0.3.4\", \"failureMessage\": \"\", \"exceptionClass\": \"\", \"trace\": \"\"}}, \"*\")"
      ],
      "text/plain": [
       "<IPython.core.display.Javascript object>"
      ]
     },
     "metadata": {},
     "output_type": "display_data"
    },
    {
     "data": {
      "text/markdown": [
       "<span style=\"color:#33cc33\">Correct</span>"
      ],
      "text/plain": [
       "Correct"
      ]
     },
     "metadata": {},
     "output_type": "display_data"
    },
    {
     "data": {
      "image/png": "[encoded data removed]",
      "text/plain": [
       "<Figure size 432x288 with 1 Axes>"
      ]
     },
     "metadata": {
      "needs_background": "light"
     },
     "output_type": "display_data"
    }
   ],
   "source": [
    "# Scatter plot w/ regression line showing the relationship between 'sugarpercent' and 'winpercent'\n",
    "sns.regplot(x = candy_data['sugarpercent'], y = candy_data['winpercent'], color = 'blue')\n",
    "\n",
    "# Check your answer\n",
    "step_4.a.check()"
   ]
  },
  {
   "cell_type": "code",
   "execution_count": 13,
   "id": "3c0b0410",
   "metadata": {
    "execution": {
     "iopub.execute_input": "2022-07-04T16:38:34.485389Z",
     "iopub.status.busy": "2022-07-04T16:38:34.484245Z",
     "iopub.status.idle": "2022-07-04T16:38:34.489578Z",
     "shell.execute_reply": "2022-07-04T16:38:34.488374Z"
    },
    "papermill": {
     "duration": 0.021602,
     "end_time": "2022-07-04T16:38:34.492217",
     "exception": false,
     "start_time": "2022-07-04T16:38:34.470615",
     "status": "completed"
    },
    "tags": []
   },
   "outputs": [],
   "source": [
    "# Lines below will give you a hint or solution code\n",
    "#step_4.a.hint()\n",
    "#step_4.a.solution_plot()"
   ]
  },
  {
   "cell_type": "markdown",
   "id": "c22e7405",
   "metadata": {
    "papermill": {
     "duration": 0.011846,
     "end_time": "2022-07-04T16:38:34.516520",
     "exception": false,
     "start_time": "2022-07-04T16:38:34.504674",
     "status": "completed"
    },
    "tags": []
   },
   "source": [
    "#### Part B\n",
    "\n",
    "According to the plot above, is there a **slight** correlation between `'winpercent'` and `'sugarpercent'`?  What does this tell you about the candy that people tend to prefer?"
   ]
  },
  {
   "cell_type": "code",
   "execution_count": 14,
   "id": "f3179dee",
   "metadata": {
    "execution": {
     "iopub.execute_input": "2022-07-04T16:38:34.543088Z",
     "iopub.status.busy": "2022-07-04T16:38:34.542699Z",
     "iopub.status.idle": "2022-07-04T16:38:34.547661Z",
     "shell.execute_reply": "2022-07-04T16:38:34.546539Z"
    },
    "papermill": {
     "duration": 0.02057,
     "end_time": "2022-07-04T16:38:34.549797",
     "exception": false,
     "start_time": "2022-07-04T16:38:34.529227",
     "status": "completed"
    },
    "tags": []
   },
   "outputs": [],
   "source": [
    "#step_4.b.hint()"
   ]
  },
  {
   "cell_type": "code",
   "execution_count": 15,
   "id": "83b2d69f",
   "metadata": {
    "execution": {
     "iopub.execute_input": "2022-07-04T16:38:34.576224Z",
     "iopub.status.busy": "2022-07-04T16:38:34.575429Z",
     "iopub.status.idle": "2022-07-04T16:38:34.584520Z",
     "shell.execute_reply": "2022-07-04T16:38:34.583408Z"
    },
    "papermill": {
     "duration": 0.024948,
     "end_time": "2022-07-04T16:38:34.586889",
     "exception": false,
     "start_time": "2022-07-04T16:38:34.561941",
     "status": "completed"
    },
    "tags": []
   },
   "outputs": [
    {
     "data": {
      "application/javascript": [
       "parent.postMessage({\"jupyterEvent\": \"custom.exercise_interaction\", \"data\": {\"interactionType\": 3, \"questionType\": 4, \"questionId\": \"4.2_ThinkBlueReg\", \"learnToolsVersion\": \"0.3.4\", \"valueTowardsCompletion\": 0.0, \"failureMessage\": \"\", \"exceptionClass\": \"\", \"trace\": \"\", \"outcomeType\": 4}}, \"*\")"
      ],
      "text/plain": [
       "<IPython.core.display.Javascript object>"
      ]
     },
     "metadata": {},
     "output_type": "display_data"
    },
    {
     "data": {
      "text/markdown": [
       "<span style=\"color:#33cc99\">Solution:</span> Since the regression line has a slightly positive slope, this tells us that there is a slightly positive correlation between `'winpercent'` and `'sugarpercent'`. Thus, people have a slight preference for candies containing relatively more sugar."
      ],
      "text/plain": [
       "Solution: Since the regression line has a slightly positive slope, this tells us that there is a slightly positive correlation between `'winpercent'` and `'sugarpercent'`. Thus, people have a slight preference for candies containing relatively more sugar."
      ]
     },
     "metadata": {},
     "output_type": "display_data"
    }
   ],
   "source": [
    "# Check your answer (Run this code cell to receive credit!)\n",
    "step_4.b.solution()"
   ]
  },
  {
   "cell_type": "markdown",
   "id": "c782a569",
   "metadata": {
    "papermill": {
     "duration": 0.012136,
     "end_time": "2022-07-04T16:38:34.611240",
     "exception": false,
     "start_time": "2022-07-04T16:38:34.599104",
     "status": "completed"
    },
    "tags": []
   },
   "source": [
    "## Step 5: Chocolate!\n",
    "\n",
    "In the code cell below, create a scatter plot to show the relationship between `'pricepercent'` (on the horizontal x-axis) and `'winpercent'` (on the vertical y-axis). Use the `'chocolate'` column to color-code the points.  _Don't add any regression lines just yet -- you'll do that in the next step!_"
   ]
  },
  {
   "cell_type": "code",
   "execution_count": 16,
   "id": "cb1b6fed",
   "metadata": {
    "execution": {
     "iopub.execute_input": "2022-07-04T16:38:34.638433Z",
     "iopub.status.busy": "2022-07-04T16:38:34.637687Z",
     "iopub.status.idle": "2022-07-04T16:38:34.804197Z",
     "shell.execute_reply": "2022-07-04T16:38:34.803015Z"
    },
    "papermill": {
     "duration": 0.183171,
     "end_time": "2022-07-04T16:38:34.806872",
     "exception": false,
     "start_time": "2022-07-04T16:38:34.623701",
     "status": "completed"
    },
    "tags": []
   },
   "outputs": [
    {
     "data": {
      "application/javascript": [
       "parent.postMessage({\"jupyterEvent\": \"custom.exercise_interaction\", \"data\": {\"outcomeType\": 1, \"valueTowardsCompletion\": 0.3333333333333333, \"interactionType\": 1, \"questionType\": 2, \"questionId\": \"5_ColorScatter\", \"learnToolsVersion\": \"0.3.4\", \"failureMessage\": \"\", \"exceptionClass\": \"\", \"trace\": \"\"}}, \"*\")"
      ],
      "text/plain": [
       "<IPython.core.display.Javascript object>"
      ]
     },
     "metadata": {},
     "output_type": "display_data"
    },
    {
     "data": {
      "text/markdown": [
       "<span style=\"color:#33cc33\">Correct</span>"
      ],
      "text/plain": [
       "Correct"
      ]
     },
     "metadata": {},
     "output_type": "display_data"
    },
    {
     "data": {
      "image/png": "[encoded data removed]",
      "text/plain": [
       "<Figure size 432x288 with 1 Axes>"
      ]
     },
     "metadata": {
      "needs_background": "light"
     },
     "output_type": "display_data"
    }
   ],
   "source": [
    "# Scatter plot showing the relationship between 'pricepercent', 'winpercent', and 'chocolate'\n",
    "sns.scatterplot(x = candy_data['pricepercent'], y = candy_data['winpercent'], color = 'chocolate') # Your code here\n",
    "\n",
    "# Check your answer\n",
    "step_5.check()"
   ]
  },
  {
   "cell_type": "code",
   "execution_count": 17,
   "id": "bfca0fd0",
   "metadata": {
    "execution": {
     "iopub.execute_input": "2022-07-04T16:38:34.834474Z",
     "iopub.status.busy": "2022-07-04T16:38:34.834051Z",
     "iopub.status.idle": "2022-07-04T16:38:34.838862Z",
     "shell.execute_reply": "2022-07-04T16:38:34.837727Z"
    },
    "papermill": {
     "duration": 0.021131,
     "end_time": "2022-07-04T16:38:34.841004",
     "exception": false,
     "start_time": "2022-07-04T16:38:34.819873",
     "status": "completed"
    },
    "tags": []
   },
   "outputs": [],
   "source": [
    "# Lines below will give you a hint or solution code\n",
    "#step_5.hint()\n",
    "#step_5.solution_plot()"
   ]
  },
  {
   "cell_type": "markdown",
   "id": "876fb162",
   "metadata": {
    "papermill": {
     "duration": 0.012695,
     "end_time": "2022-07-04T16:38:34.866651",
     "exception": false,
     "start_time": "2022-07-04T16:38:34.853956",
     "status": "completed"
    },
    "tags": []
   },
   "source": [
    "Can you see any interesting patterns in the scatter plot?  We'll investigate this plot further  by adding regression lines in the next step!\n",
    "\n",
    "## Step 6: Investigate chocolate\n",
    "\n",
    "#### Part A\n",
    "\n",
    "Create the same scatter plot you created in **Step 5**, but now with two regression lines, corresponding to (1) chocolate candies and (2) candies without chocolate."
   ]
  },
  {
   "cell_type": "code",
   "execution_count": 18,
   "id": "20b591bc",
   "metadata": {
    "execution": {
     "iopub.execute_input": "2022-07-04T16:38:34.894574Z",
     "iopub.status.busy": "2022-07-04T16:38:34.893637Z",
     "iopub.status.idle": "2022-07-04T16:38:35.517853Z",
     "shell.execute_reply": "2022-07-04T16:38:35.516609Z"
    },
    "papermill": {
     "duration": 0.641005,
     "end_time": "2022-07-04T16:38:35.520564",
     "exception": false,
     "start_time": "2022-07-04T16:38:34.879559",
     "status": "completed"
    },
    "tags": []
   },
   "outputs": [
    {
     "data": {
      "application/javascript": [
       "parent.postMessage({\"jupyterEvent\": \"custom.exercise_interaction\", \"data\": {\"outcomeType\": 1, \"valueTowardsCompletion\": 0.3333333333333333, \"interactionType\": 1, \"questionType\": 2, \"questionId\": \"6.1_PlotColorReg\", \"learnToolsVersion\": \"0.3.4\", \"failureMessage\": \"\", \"exceptionClass\": \"\", \"trace\": \"\"}}, \"*\")"
      ],
      "text/plain": [
       "<IPython.core.display.Javascript object>"
      ]
     },
     "metadata": {},
     "output_type": "display_data"
    },
    {
     "data": {
      "text/markdown": [
       "<span style=\"color:#33cc33\">Correct</span>"
      ],
      "text/plain": [
       "Correct"
      ]
     },
     "metadata": {},
     "output_type": "display_data"
    },
    {
     "data": {
      "image/png": "[encoded data removed]",
      "text/plain": [
       "<Figure size 416.375x360 with 1 Axes>"
      ]
     },
     "metadata": {
      "needs_background": "light"
     },
     "output_type": "display_data"
    }
   ],
   "source": [
    "# Color-coded scatter plot w/ regression lines\n",
    "sns.lmplot(x = 'pricepercent', y = 'winpercent', hue = 'chocolate', data = candy_data) # Your code here\n",
    "\n",
    "# Check your answer\n",
    "step_6.a.check()"
   ]
  },
  {
   "cell_type": "code",
   "execution_count": 19,
   "id": "3bf9dbcb",
   "metadata": {
    "execution": {
     "iopub.execute_input": "2022-07-04T16:38:35.551596Z",
     "iopub.status.busy": "2022-07-04T16:38:35.550438Z",
     "iopub.status.idle": "2022-07-04T16:38:35.556013Z",
     "shell.execute_reply": "2022-07-04T16:38:35.554777Z"
    },
    "papermill": {
     "duration": 0.023162,
     "end_time": "2022-07-04T16:38:35.558254",
     "exception": false,
     "start_time": "2022-07-04T16:38:35.535092",
     "status": "completed"
    },
    "tags": []
   },
   "outputs": [],
   "source": [
    "# Lines below will give you a hint or solution code\n",
    "#step_6.a.hint()\n",
    "#step_6.a.solution_plot()"
   ]
  },
  {
   "cell_type": "markdown",
   "id": "72ea7250",
   "metadata": {
    "papermill": {
     "duration": 0.013667,
     "end_time": "2022-07-04T16:38:35.586052",
     "exception": false,
     "start_time": "2022-07-04T16:38:35.572385",
     "status": "completed"
    },
    "tags": []
   },
   "source": [
    "#### Part B\n",
    "\n",
    "Using the regression lines, what conclusions can you draw about the effects of chocolate and price on candy popularity?"
   ]
  },
  {
   "cell_type": "code",
   "execution_count": 20,
   "id": "cb9ec6e1",
   "metadata": {
    "execution": {
     "iopub.execute_input": "2022-07-04T16:38:35.615850Z",
     "iopub.status.busy": "2022-07-04T16:38:35.615384Z",
     "iopub.status.idle": "2022-07-04T16:38:35.620613Z",
     "shell.execute_reply": "2022-07-04T16:38:35.619346Z"
    },
    "papermill": {
     "duration": 0.023019,
     "end_time": "2022-07-04T16:38:35.623158",
     "exception": false,
     "start_time": "2022-07-04T16:38:35.600139",
     "status": "completed"
    },
    "tags": []
   },
   "outputs": [],
   "source": [
    "#step_6.b.hint()"
   ]
  },
  {
   "cell_type": "code",
   "execution_count": 21,
   "id": "bf5baa10",
   "metadata": {
    "execution": {
     "iopub.execute_input": "2022-07-04T16:38:35.654441Z",
     "iopub.status.busy": "2022-07-04T16:38:35.653779Z",
     "iopub.status.idle": "2022-07-04T16:38:35.661632Z",
     "shell.execute_reply": "2022-07-04T16:38:35.660515Z"
    },
    "papermill": {
     "duration": 0.026341,
     "end_time": "2022-07-04T16:38:35.664087",
     "exception": false,
     "start_time": "2022-07-04T16:38:35.637746",
     "status": "completed"
    },
    "tags": []
   },
   "outputs": [
    {
     "data": {
      "application/javascript": [
       "parent.postMessage({\"jupyterEvent\": \"custom.exercise_interaction\", \"data\": {\"interactionType\": 3, \"questionType\": 4, \"questionId\": \"6.2_ThinkColorReg\", \"learnToolsVersion\": \"0.3.4\", \"valueTowardsCompletion\": 0.0, \"failureMessage\": \"\", \"exceptionClass\": \"\", \"trace\": \"\", \"outcomeType\": 4}}, \"*\")"
      ],
      "text/plain": [
       "<IPython.core.display.Javascript object>"
      ]
     },
     "metadata": {},
     "output_type": "display_data"
    },
    {
     "data": {
      "text/markdown": [
       "<span style=\"color:#33cc99\">Solution:</span> We'll begin with the regression line for chocolate candies. Since this line has a slightly positive slope, we can say that more expensive chocolate candies tend to be more popular (than relatively cheaper chocolate candies).  Likewise, since the regression line for candies without chocolate has a negative slope, we can say that if candies don't contain chocolate, they tend to be more popular when they are cheaper.  One important note, however, is that the dataset is quite small -- so we shouldn't invest too much trust in these patterns!  To inspire more confidence in the results, we should add more candies to the dataset."
      ],
      "text/plain": [
       "Solution: We'll begin with the regression line for chocolate candies. Since this line has a slightly positive slope, we can say that more expensive chocolate candies tend to be more popular (than relatively cheaper chocolate candies).  Likewise, since the regression line for candies without chocolate has a negative slope, we can say that if candies don't contain chocolate, they tend to be more popular when they are cheaper.  One important note, however, is that the dataset is quite small -- so we shouldn't invest too much trust in these patterns!  To inspire more confidence in the results, we should add more candies to the dataset."
      ]
     },
     "metadata": {},
     "output_type": "display_data"
    }
   ],
   "source": [
    "# Check your answer (Run this code cell to receive credit!)\n",
    "step_6.b.solution()"
   ]
  },
  {
   "cell_type": "markdown",
   "id": "13503f2f",
   "metadata": {
    "papermill": {
     "duration": 0.013914,
     "end_time": "2022-07-04T16:38:35.692354",
     "exception": false,
     "start_time": "2022-07-04T16:38:35.678440",
     "status": "completed"
    },
    "tags": []
   },
   "source": [
    "## Step 7: Everybody loves chocolate.\n",
    "\n",
    "#### Part A\n",
    "\n",
    "Create a categorical scatter plot to highlight the relationship between `'chocolate'` and `'winpercent'`.  Put `'chocolate'` on the (horizontal) x-axis, and `'winpercent'` on the (vertical) y-axis."
   ]
  },
  {
   "cell_type": "code",
   "execution_count": 22,
   "id": "efb371a0",
   "metadata": {
    "execution": {
     "iopub.execute_input": "2022-07-04T16:38:35.722479Z",
     "iopub.status.busy": "2022-07-04T16:38:35.722040Z",
     "iopub.status.idle": "2022-07-04T16:38:35.920222Z",
     "shell.execute_reply": "2022-07-04T16:38:35.919020Z"
    },
    "papermill": {
     "duration": 0.216416,
     "end_time": "2022-07-04T16:38:35.922962",
     "exception": false,
     "start_time": "2022-07-04T16:38:35.706546",
     "status": "completed"
    },
    "tags": []
   },
   "outputs": [
    {
     "data": {
      "application/javascript": [
       "parent.postMessage({\"jupyterEvent\": \"custom.exercise_interaction\", \"data\": {\"outcomeType\": 1, \"valueTowardsCompletion\": 0.3333333333333333, \"interactionType\": 1, \"questionType\": 2, \"questionId\": \"7.1_PlotSwarm\", \"learnToolsVersion\": \"0.3.4\", \"failureMessage\": \"\", \"exceptionClass\": \"\", \"trace\": \"\"}}, \"*\")"
      ],
      "text/plain": [
       "<IPython.core.display.Javascript object>"
      ]
     },
     "metadata": {},
     "output_type": "display_data"
    },
    {
     "data": {
      "text/markdown": [
       "<span style=\"color:#33cc33\">Correct</span>"
      ],
      "text/plain": [
       "Correct"
      ]
     },
     "metadata": {},
     "output_type": "display_data"
    },
    {
     "data": {
      "image/png": "[encoded data removed]",
      "text/plain": [
       "<Figure size 432x288 with 1 Axes>"
      ]
     },
     "metadata": {
      "needs_background": "light"
     },
     "output_type": "display_data"
    }
   ],
   "source": [
    "# Scatter plot showing the relationship between 'chocolate' and 'winpercent'\n",
    "sns.swarmplot(x = candy_data['chocolate'], y = candy_data['winpercent']) # Your code here\n",
    "\n",
    "# Check your answer\n",
    "step_7.a.check()"
   ]
  },
  {
   "cell_type": "code",
   "execution_count": 23,
   "id": "add92456",
   "metadata": {
    "execution": {
     "iopub.execute_input": "2022-07-04T16:38:35.955594Z",
     "iopub.status.busy": "2022-07-04T16:38:35.955170Z",
     "iopub.status.idle": "2022-07-04T16:38:35.959825Z",
     "shell.execute_reply": "2022-07-04T16:38:35.958661Z"
    },
    "papermill": {
     "duration": 0.024247,
     "end_time": "2022-07-04T16:38:35.962124",
     "exception": false,
     "start_time": "2022-07-04T16:38:35.937877",
     "status": "completed"
    },
    "tags": []
   },
   "outputs": [],
   "source": [
    "# Lines below will give you a hint or solution code\n",
    "#step_7.a.hint()\n",
    "#step_7.a.solution_plot()"
   ]
  },
  {
   "cell_type": "markdown",
   "id": "f4146666",
   "metadata": {
    "papermill": {
     "duration": 0.01455,
     "end_time": "2022-07-04T16:38:35.991537",
     "exception": false,
     "start_time": "2022-07-04T16:38:35.976987",
     "status": "completed"
    },
    "tags": []
   },
   "source": [
    "#### Part B\n",
    "\n",
    "You decide to dedicate a section of your report to the fact that chocolate candies tend to be more popular than candies without chocolate.  Which plot is more appropriate to tell this story: the plot from **Step 6**, or the plot from **Step 7**?"
   ]
  },
  {
   "cell_type": "code",
   "execution_count": 24,
   "id": "c2d9abec",
   "metadata": {
    "execution": {
     "iopub.execute_input": "2022-07-04T16:38:36.023438Z",
     "iopub.status.busy": "2022-07-04T16:38:36.022654Z",
     "iopub.status.idle": "2022-07-04T16:38:36.027402Z",
     "shell.execute_reply": "2022-07-04T16:38:36.026557Z"
    },
    "papermill": {
     "duration": 0.023405,
     "end_time": "2022-07-04T16:38:36.029795",
     "exception": false,
     "start_time": "2022-07-04T16:38:36.006390",
     "status": "completed"
    },
    "tags": []
   },
   "outputs": [],
   "source": [
    "#step_7.b.hint()"
   ]
  },
  {
   "cell_type": "code",
   "execution_count": 25,
   "id": "9d996103",
   "metadata": {
    "execution": {
     "iopub.execute_input": "2022-07-04T16:38:36.061754Z",
     "iopub.status.busy": "2022-07-04T16:38:36.060988Z",
     "iopub.status.idle": "2022-07-04T16:38:36.070606Z",
     "shell.execute_reply": "2022-07-04T16:38:36.069729Z"
    },
    "papermill": {
     "duration": 0.028153,
     "end_time": "2022-07-04T16:38:36.072857",
     "exception": false,
     "start_time": "2022-07-04T16:38:36.044704",
     "status": "completed"
    },
    "tags": []
   },
   "outputs": [
    {
     "data": {
      "application/javascript": [
       "parent.postMessage({\"jupyterEvent\": \"custom.exercise_interaction\", \"data\": {\"interactionType\": 3, \"questionType\": 4, \"questionId\": \"7.2_ThinkSwarm\", \"learnToolsVersion\": \"0.3.4\", \"valueTowardsCompletion\": 0.0, \"failureMessage\": \"\", \"exceptionClass\": \"\", \"trace\": \"\", \"outcomeType\": 4}}, \"*\")"
      ],
      "text/plain": [
       "<IPython.core.display.Javascript object>"
      ]
     },
     "metadata": {},
     "output_type": "display_data"
    },
    {
     "data": {
      "text/markdown": [
       "<span style=\"color:#33cc99\">Solution:</span> In this case, the categorical scatter plot from **Step 7** is the more appropriate plot. While both plots tell the desired story, the plot from **Step 6** conveys far more information that could distract from the main point."
      ],
      "text/plain": [
       "Solution: In this case, the categorical scatter plot from **Step 7** is the more appropriate plot. While both plots tell the desired story, the plot from **Step 6** conveys far more information that could distract from the main point."
      ]
     },
     "metadata": {},
     "output_type": "display_data"
    }
   ],
   "source": [
    "# Check your answer (Run this code cell to receive credit!)\n",
    "step_7.b.solution()"
   ]
  },
  {
   "cell_type": "markdown",
   "id": "6bf60dec",
   "metadata": {
    "papermill": {
     "duration": 0.015,
     "end_time": "2022-07-04T16:38:36.103945",
     "exception": false,
     "start_time": "2022-07-04T16:38:36.088945",
     "status": "completed"
    },
    "tags": []
   },
   "source": [
    "## Keep going\n",
    "\n",
    "Explore **[histograms and density plots](https://www.kaggle.com/alexisbcook/distributions)**."
   ]
  },
  {
   "cell_type": "markdown",
   "id": "c024551e",
   "metadata": {
    "papermill": {
     "duration": 0.015262,
     "end_time": "2022-07-04T16:38:36.134928",
     "exception": false,
     "start_time": "2022-07-04T16:38:36.119666",
     "status": "completed"
    },
    "tags": []
   },
   "source": [
    "---\n",
    "\n",
    "\n",
    "\n",
    "\n",
    "*Have questions or comments? Visit the [course discussion forum](https://www.kaggle.com/learn/data-visualization/discussion) to chat with other learners.*"
   ]
  }
 ],
 "metadata": {
  "kernelspec": {
   "display_name": "Python 3",
   "language": "python",
   "name": "python3"
  },
  "language_info": {
   "codemirror_mode": {
    "name": "ipython",
    "version": 3
   },
   "file_extension": ".py",
   "mimetype": "text/x-python",
   "name": "python",
   "nbconvert_exporter": "python",
   "pygments_lexer": "ipython3",
   "version": "3.7.12"
  },
  "papermill": {
   "default_parameters": {},
   "duration": 15.540669,
   "end_time": "2022-07-04T16:38:36.872385",
   "environment_variables": {},
   "exception": null,
   "input_path": "__notebook__.ipynb",
   "output_path": "__notebook__.ipynb",
   "parameters": {},
   "start_time": "2022-07-04T16:38:21.331716",
   "version": "2.3.4"
  }
 },
 "nbformat": 4,
 "nbformat_minor": 5
}
