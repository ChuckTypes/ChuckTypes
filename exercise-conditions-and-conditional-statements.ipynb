{
 "cells": [
  {
   "cell_type": "markdown",
   "id": "122e2ca8",
   "metadata": {
    "papermill": {
     "duration": 0.008876,
     "end_time": "2022-06-29T03:46:32.857819",
     "exception": false,
     "start_time": "2022-06-29T03:46:32.848943",
     "status": "completed"
    },
    "tags": []
   },
   "source": [
    "**This notebook is an exercise in the [Intro to Programming](https://www.kaggle.com/learn/intro-to-programming) course.  You can reference the tutorial at [this link](https://www.kaggle.com/alexisbcook/conditions-and-conditional-statements).**\n",
    "\n",
    "---\n"
   ]
  },
  {
   "cell_type": "markdown",
   "id": "3da8865c",
   "metadata": {
    "papermill": {
     "duration": 0.007288,
     "end_time": "2022-06-29T03:46:32.873866",
     "exception": false,
     "start_time": "2022-06-29T03:46:32.866578",
     "status": "completed"
    },
    "tags": []
   },
   "source": [
    "In the tutorial, you learned about conditions and conditional statements. In this exercise, you will use what you learned to answer several questions.\n",
    "\n",
    "# Set up the notebook\n",
    "\n",
    "Run the next code cell without changes to set up the notebook."
   ]
  },
  {
   "cell_type": "code",
   "execution_count": 1,
   "id": "03b23451",
   "metadata": {
    "execution": {
     "iopub.execute_input": "2022-06-29T03:46:32.891965Z",
     "iopub.status.busy": "2022-06-29T03:46:32.890780Z",
     "iopub.status.idle": "2022-06-29T03:46:32.950477Z",
     "shell.execute_reply": "2022-06-29T03:46:32.949640Z"
    },
    "papermill": {
     "duration": 0.071396,
     "end_time": "2022-06-29T03:46:32.952975",
     "exception": false,
     "start_time": "2022-06-29T03:46:32.881579",
     "status": "completed"
    },
    "tags": []
   },
   "outputs": [
    {
     "name": "stdout",
     "output_type": "stream",
     "text": [
      "Setup complete.\n"
     ]
    }
   ],
   "source": [
    "from learntools.core import binder\n",
    "binder.bind(globals())\n",
    "from learntools.intro_to_programming.ex4 import *\n",
    "print('Setup complete.')"
   ]
  },
  {
   "cell_type": "markdown",
   "id": "4787ded1",
   "metadata": {
    "papermill": {
     "duration": 0.007226,
     "end_time": "2022-06-29T03:46:32.967833",
     "exception": false,
     "start_time": "2022-06-29T03:46:32.960607",
     "status": "completed"
    },
    "tags": []
   },
   "source": [
    "# Question 1\n",
    "\n",
    "You work at a college admissions office.  When inspecting a dataset of college applicants, you notice that some students have represented their grades with letters (`\"A\"`, `\"B\"`, `\"C\"`, `\"D\"`, `\"F\"`), whereas others have represented their grades with a number between 0 and 100.\n",
    "\n",
    "You realize that for consistency, all of the grades should be formatted in the same way, and you decide to format them all as letters.  For the conversion, you decide to assign:\n",
    "- `\"A\"` - any grade 90-100, inclusive\n",
    "- `\"B\"` - any grade 80-89, inclusive\n",
    "- `\"C\"` - any grade 70-79, inclusive\n",
    "- `\"D\"` - any grade 60-69, inclusive\n",
    "- `\"F\"` - any grade <60\n",
    "\n",
    "Write a function `get_grade()` that takes as input:\n",
    "- `score` - an integer 0-100 corresponding to a numerical grade\n",
    "\n",
    "It should return a Python string with the letter grade that it corresponds to.  For instance,\n",
    "- A score of 85 corresponds to a B grade.  In other words, `get_grade(85)` should return `\"B\"`.\n",
    "- A score of 49 corresponds to an F grade.  In other words, `get_grade(49)` should return `\"F\"`.\n",
    "\n",
    "Make sure that when supplying the grade that is returned by the function, it is enclosed in quotes.  (For instance, if you want to return `\"A\"`, you should write `return \"A\"` and not `return A`.)"
   ]
  },
  {
   "cell_type": "code",
   "execution_count": 2,
   "id": "2988a6cf",
   "metadata": {
    "execution": {
     "iopub.execute_input": "2022-06-29T03:46:32.985607Z",
     "iopub.status.busy": "2022-06-29T03:46:32.984857Z",
     "iopub.status.idle": "2022-06-29T03:46:32.996213Z",
     "shell.execute_reply": "2022-06-29T03:46:32.995422Z"
    },
    "papermill": {
     "duration": 0.022552,
     "end_time": "2022-06-29T03:46:32.998141",
     "exception": false,
     "start_time": "2022-06-29T03:46:32.975589",
     "status": "completed"
    },
    "tags": []
   },
   "outputs": [
    {
     "data": {
      "application/javascript": [
       "parent.postMessage({\"jupyterEvent\": \"custom.exercise_interaction\", \"data\": {\"outcomeType\": 1, \"valueTowardsCompletion\": 0.2, \"interactionType\": 1, \"questionType\": 2, \"questionId\": \"1_GetGrade\", \"learnToolsVersion\": \"0.3.4\", \"failureMessage\": \"\", \"exceptionClass\": \"\", \"trace\": \"\"}}, \"*\")"
      ],
      "text/plain": [
       "<IPython.core.display.Javascript object>"
      ]
     },
     "metadata": {},
     "output_type": "display_data"
    },
    {
     "data": {
      "text/markdown": [
       "<span style=\"color:#33cc33\">Correct</span>"
      ],
      "text/plain": [
       "Correct"
      ]
     },
     "metadata": {},
     "output_type": "display_data"
    }
   ],
   "source": [
    "# TODO: Edit the function to return the correct grade for different scores\n",
    "def get_grade(score):\n",
    "    if score >= 90:\n",
    "        grade = \"A\"\n",
    "    elif score >= 80:\n",
    "        grade = \"B\"\n",
    "    elif score >= 70:\n",
    "        grade = \"C\"\n",
    "    elif score >= 60:\n",
    "        grade = \"D\"\n",
    "    else:\n",
    "        grade = \"F\"\n",
    "    return grade\n",
    "# Check your answer\n",
    "q1.check()"
   ]
  },
  {
   "cell_type": "code",
   "execution_count": 3,
   "id": "60b834fe",
   "metadata": {
    "execution": {
     "iopub.execute_input": "2022-06-29T03:46:33.016344Z",
     "iopub.status.busy": "2022-06-29T03:46:33.015611Z",
     "iopub.status.idle": "2022-06-29T03:46:33.025594Z",
     "shell.execute_reply": "2022-06-29T03:46:33.024847Z"
    },
    "papermill": {
     "duration": 0.021538,
     "end_time": "2022-06-29T03:46:33.027483",
     "exception": false,
     "start_time": "2022-06-29T03:46:33.005945",
     "status": "completed"
    },
    "tags": []
   },
   "outputs": [
    {
     "data": {
      "application/javascript": [
       "parent.postMessage({\"jupyterEvent\": \"custom.exercise_interaction\", \"data\": {\"interactionType\": 2, \"questionType\": 2, \"questionId\": \"1_GetGrade\", \"learnToolsVersion\": \"0.3.4\", \"valueTowardsCompletion\": 0.0, \"failureMessage\": \"\", \"exceptionClass\": \"\", \"trace\": \"\", \"outcomeType\": 4}}, \"*\")"
      ],
      "text/plain": [
       "<IPython.core.display.Javascript object>"
      ]
     },
     "metadata": {},
     "output_type": "display_data"
    },
    {
     "data": {
      "text/markdown": [
       "<span style=\"color:#3366cc\">Hint:</span> `\"A\"` should only be returned if `score >= 90`.  Otherwise, if the score is between 80 and 89 (inclusive), or 70 and 79 (inclusive), 60 and 69 (inclusive), or less than 60, a different score should be returned.  Make sure that your function always returns one of: `\"A\"`, `\"B\"`, `\"C\"`, `\"D\"`, or `\"F\"`."
      ],
      "text/plain": [
       "Hint: `\"A\"` should only be returned if `score >= 90`.  Otherwise, if the score is between 80 and 89 (inclusive), or 70 and 79 (inclusive), 60 and 69 (inclusive), or less than 60, a different score should be returned.  Make sure that your function always returns one of: `\"A\"`, `\"B\"`, `\"C\"`, `\"D\"`, or `\"F\"`."
      ]
     },
     "metadata": {},
     "output_type": "display_data"
    },
    {
     "data": {
      "application/javascript": [
       "parent.postMessage({\"jupyterEvent\": \"custom.exercise_interaction\", \"data\": {\"interactionType\": 3, \"questionType\": 2, \"questionId\": \"1_GetGrade\", \"learnToolsVersion\": \"0.3.4\", \"valueTowardsCompletion\": 0.0, \"failureMessage\": \"\", \"exceptionClass\": \"\", \"trace\": \"\", \"outcomeType\": 4}}, \"*\")"
      ],
      "text/plain": [
       "<IPython.core.display.Javascript object>"
      ]
     },
     "metadata": {},
     "output_type": "display_data"
    },
    {
     "data": {
      "text/markdown": [
       "<span style=\"color:#33cc99\">Solution:</span> \n",
       "```python\n",
       "def get_grade(score):\n",
       "    if score >= 90:\n",
       "        grade = \"A\"\n",
       "    elif score >= 80:\n",
       "        grade = \"B\"\n",
       "    elif score >= 70:\n",
       "        grade = \"C\"\n",
       "    elif score >= 60:\n",
       "        grade = \"D\"\n",
       "    else:\n",
       "        grade = \"F\"\n",
       "    return grade\n",
       "\n",
       "```"
      ],
      "text/plain": [
       "Solution: \n",
       "```python\n",
       "def get_grade(score):\n",
       "    if score >= 90:\n",
       "        grade = \"A\"\n",
       "    elif score >= 80:\n",
       "        grade = \"B\"\n",
       "    elif score >= 70:\n",
       "        grade = \"C\"\n",
       "    elif score >= 60:\n",
       "        grade = \"D\"\n",
       "    else:\n",
       "        grade = \"F\"\n",
       "    return grade\n",
       "\n",
       "```"
      ]
     },
     "metadata": {},
     "output_type": "display_data"
    }
   ],
   "source": [
    "# Uncomment to see a hint\n",
    "q1.hint()\n",
    "\n",
    "# Uncomment to see the solution\n",
    "q1.solution()"
   ]
  },
  {
   "cell_type": "markdown",
   "id": "bc9d3329",
   "metadata": {
    "papermill": {
     "duration": 0.008089,
     "end_time": "2022-06-29T03:46:33.043922",
     "exception": false,
     "start_time": "2022-06-29T03:46:33.035833",
     "status": "completed"
    },
    "tags": []
   },
   "source": [
    "# Question 2\n",
    "\n",
    "In the exercise for the previous lesson, you wrote a function `cost_of_project()` that estimated the price of rings for an online shop that sells rings with custom engravings.  This function did not use conditional statements.  In this exercise, you will rewrite the function to use conditional statements.  Recall that the online shop has the following price structure:\n",
    "- Gold plated rings have a base cost of \\\\$50, and you charge \\\\$7 per engraved unit.  \n",
    "- Solid gold rings have a base cost of \\\\$100, and you charge \\\\$10 per engraved unit.\n",
    "- Spaces and punctuation are counted as engraved units.\n",
    "\n",
    "Your function `cost_of_project()` takes two arguments:\n",
    "- `engraving` - a Python string with the text of the engraving\n",
    "- `solid_gold` - a Boolean that indicates whether the ring is solid gold\n",
    "\n",
    "It should return the cost of the project.  \n",
    "\n",
    "The function has been partially completed for you, and you need to fill in the blanks to complete the function."
   ]
  },
  {
   "cell_type": "code",
   "execution_count": 4,
   "id": "adcda397",
   "metadata": {
    "execution": {
     "iopub.execute_input": "2022-06-29T03:46:33.062676Z",
     "iopub.status.busy": "2022-06-29T03:46:33.062227Z",
     "iopub.status.idle": "2022-06-29T03:46:33.071137Z",
     "shell.execute_reply": "2022-06-29T03:46:33.070201Z"
    },
    "papermill": {
     "duration": 0.02091,
     "end_time": "2022-06-29T03:46:33.073172",
     "exception": false,
     "start_time": "2022-06-29T03:46:33.052262",
     "status": "completed"
    },
    "tags": []
   },
   "outputs": [
    {
     "data": {
      "application/javascript": [
       "parent.postMessage({\"jupyterEvent\": \"custom.exercise_interaction\", \"data\": {\"outcomeType\": 1, \"valueTowardsCompletion\": 0.2, \"interactionType\": 1, \"questionType\": 2, \"questionId\": \"2_CostProjectPartDeux\", \"learnToolsVersion\": \"0.3.4\", \"failureMessage\": \"\", \"exceptionClass\": \"\", \"trace\": \"\"}}, \"*\")"
      ],
      "text/plain": [
       "<IPython.core.display.Javascript object>"
      ]
     },
     "metadata": {},
     "output_type": "display_data"
    },
    {
     "data": {
      "text/markdown": [
       "<span style=\"color:#33cc33\">Correct</span>"
      ],
      "text/plain": [
       "Correct"
      ]
     },
     "metadata": {},
     "output_type": "display_data"
    }
   ],
   "source": [
    "def cost_of_project(engraving, solid_gold):\n",
    "    if solid_gold == True:\n",
    "        cost = 100 + 10 * len(engraving)\n",
    "    else:\n",
    "        cost = 50 + 7 * len(engraving)\n",
    "    return cost\n",
    "\n",
    "# Check your answer\n",
    "q2.check()"
   ]
  },
  {
   "cell_type": "code",
   "execution_count": 5,
   "id": "9fba30b1",
   "metadata": {
    "execution": {
     "iopub.execute_input": "2022-06-29T03:46:33.092863Z",
     "iopub.status.busy": "2022-06-29T03:46:33.092462Z",
     "iopub.status.idle": "2022-06-29T03:46:33.096232Z",
     "shell.execute_reply": "2022-06-29T03:46:33.095341Z"
    },
    "papermill": {
     "duration": 0.016043,
     "end_time": "2022-06-29T03:46:33.098205",
     "exception": false,
     "start_time": "2022-06-29T03:46:33.082162",
     "status": "completed"
    },
    "tags": []
   },
   "outputs": [],
   "source": [
    "# Uncomment to see a hint\n",
    "#q2.hint()\n",
    "\n",
    "# Uncomment to see the solution\n",
    "#q2.solution()"
   ]
  },
  {
   "cell_type": "markdown",
   "id": "42ea7583",
   "metadata": {
    "papermill": {
     "duration": 0.008499,
     "end_time": "2022-06-29T03:46:33.115565",
     "exception": false,
     "start_time": "2022-06-29T03:46:33.107066",
     "status": "completed"
    },
    "tags": []
   },
   "source": [
    "# Question 3\n",
    "\n",
    "You are a programmer at a water agency.  Recently, you have been tasked to write a function `get_water_bill()` that takes as input:\n",
    "- `num_gallons` = the number of gallons of water that a customer used that month.  (This will always be an integer with no decimal part.)\n",
    "\n",
    "It should output the water bill.  \n",
    "\n",
    "The water agency uses this pricing structure:\n",
    "<table style=\"width: 100%;\">\n",
    "<tbody>\n",
    "<tr><th><b>Tier</b></th><th><b>Amount in gallons</b></th><th><b>Price per 1000 gallons</b></th></tr>\n",
    "<tr>\n",
    "<td>Tier 1</td>\n",
    "<td>0 - 8,000</td>\n",
    "<td>\\$5</td>\n",
    "</tr>\n",
    "<tr>\n",
    "<td>Tier 2</td>\n",
    "<td>8,001 - 22,000</td>\n",
    "<td>\\$6</td>\n",
    "</tr>\n",
    "<tr>\n",
    "<td>Tier 3</td>\n",
    "<td>22,001 - 30,000</td>\n",
    "<td>\\$7</td>\n",
    "</tr>\n",
    "<tr>\n",
    "<td>Tier 4</td>\n",
    "<td>30,001+</td>\n",
    "<td>\\$10</td>\n",
    "</tr>\n",
    "</tbody>\n",
    "</table>\n",
    "\n",
    "For example: \n",
    "- Someone who uses 10,000 gallons of water in a month is placed in Tier 2, and needs to pay a water bill of \\\\$6 * 10 = \\\\$60.  In other words, `get_water_bill(10000)` should return `60.0`.\n",
    "- Someone who uses 25,000 gallons of water in a month is placed in Tier 3, and needs to pay a water bill of \\\\$7 * 25 = \\\\$175.  In other words, `get_water_bill(25000)` should return `175.0`.\n",
    "\n",
    "**Do not round your answer.**  So, your answer might return fractions of a penny."
   ]
  },
  {
   "cell_type": "code",
   "execution_count": 6,
   "id": "2ca65e3f",
   "metadata": {
    "execution": {
     "iopub.execute_input": "2022-06-29T03:46:33.135187Z",
     "iopub.status.busy": "2022-06-29T03:46:33.134105Z",
     "iopub.status.idle": "2022-06-29T03:46:33.143586Z",
     "shell.execute_reply": "2022-06-29T03:46:33.142827Z"
    },
    "papermill": {
     "duration": 0.02145,
     "end_time": "2022-06-29T03:46:33.145683",
     "exception": false,
     "start_time": "2022-06-29T03:46:33.124233",
     "status": "completed"
    },
    "tags": []
   },
   "outputs": [
    {
     "data": {
      "application/javascript": [
       "parent.postMessage({\"jupyterEvent\": \"custom.exercise_interaction\", \"data\": {\"outcomeType\": 1, \"valueTowardsCompletion\": 0.2, \"interactionType\": 1, \"questionType\": 2, \"questionId\": \"3_GetWaterBill\", \"learnToolsVersion\": \"0.3.4\", \"failureMessage\": \"\", \"exceptionClass\": \"\", \"trace\": \"\"}}, \"*\")"
      ],
      "text/plain": [
       "<IPython.core.display.Javascript object>"
      ]
     },
     "metadata": {},
     "output_type": "display_data"
    },
    {
     "data": {
      "text/markdown": [
       "<span style=\"color:#33cc33\">Correct</span>"
      ],
      "text/plain": [
       "Correct"
      ]
     },
     "metadata": {},
     "output_type": "display_data"
    }
   ],
   "source": [
    "# TODO: Edit the function to return the correct bill for different\n",
    "# values of num_gallons\n",
    "def get_water_bill(num_gallons):\n",
    "    if num_gallons <= 8000:\n",
    "        bill = 5 * num_gallons / 1000\n",
    "    elif num_gallons <= 22000:\n",
    "        bill = 6 * num_gallons / 1000\n",
    "    elif num_gallons <= 30000:\n",
    "        bill = 7 * num_gallons / 1000\n",
    "    else:\n",
    "        bill = 10 * num_gallons / 1000\n",
    "    return bill\n",
    "\n",
    "# Check your answer\n",
    "q3.check()"
   ]
  },
  {
   "cell_type": "code",
   "execution_count": 7,
   "id": "d1199088",
   "metadata": {
    "execution": {
     "iopub.execute_input": "2022-06-29T03:46:33.166478Z",
     "iopub.status.busy": "2022-06-29T03:46:33.166068Z",
     "iopub.status.idle": "2022-06-29T03:46:33.173113Z",
     "shell.execute_reply": "2022-06-29T03:46:33.172420Z"
    },
    "papermill": {
     "duration": 0.019712,
     "end_time": "2022-06-29T03:46:33.175068",
     "exception": false,
     "start_time": "2022-06-29T03:46:33.155356",
     "status": "completed"
    },
    "tags": []
   },
   "outputs": [
    {
     "data": {
      "application/javascript": [
       "parent.postMessage({\"jupyterEvent\": \"custom.exercise_interaction\", \"data\": {\"interactionType\": 3, \"questionType\": 2, \"questionId\": \"3_GetWaterBill\", \"learnToolsVersion\": \"0.3.4\", \"valueTowardsCompletion\": 0.0, \"failureMessage\": \"\", \"exceptionClass\": \"\", \"trace\": \"\", \"outcomeType\": 4}}, \"*\")"
      ],
      "text/plain": [
       "<IPython.core.display.Javascript object>"
      ]
     },
     "metadata": {},
     "output_type": "display_data"
    },
    {
     "data": {
      "text/markdown": [
       "<span style=\"color:#33cc99\">Solution:</span> \n",
       "```python\n",
       "def get_water_bill(num_gallons):\n",
       "    if num_gallons <= 8000:\n",
       "        bill = 5 * num_gallons / 1000\n",
       "    elif num_gallons <= 22000:\n",
       "        bill = 6 * num_gallons / 1000\n",
       "    elif num_gallons <= 30000:\n",
       "        bill = 7 * num_gallons / 1000\n",
       "    else:\n",
       "        bill = 10 * num_gallons / 1000\n",
       "    return bill\n",
       "\n",
       "```"
      ],
      "text/plain": [
       "Solution: \n",
       "```python\n",
       "def get_water_bill(num_gallons):\n",
       "    if num_gallons <= 8000:\n",
       "        bill = 5 * num_gallons / 1000\n",
       "    elif num_gallons <= 22000:\n",
       "        bill = 6 * num_gallons / 1000\n",
       "    elif num_gallons <= 30000:\n",
       "        bill = 7 * num_gallons / 1000\n",
       "    else:\n",
       "        bill = 10 * num_gallons / 1000\n",
       "    return bill\n",
       "\n",
       "```"
      ]
     },
     "metadata": {},
     "output_type": "display_data"
    }
   ],
   "source": [
    "# Uncomment to see a hint\n",
    "#q3.hint()\n",
    "\n",
    "# Uncomment to see the solution\n",
    "q3.solution()"
   ]
  },
  {
   "cell_type": "markdown",
   "id": "3fbe8331",
   "metadata": {
    "papermill": {
     "duration": 0.009118,
     "end_time": "2022-06-29T03:46:33.193406",
     "exception": false,
     "start_time": "2022-06-29T03:46:33.184288",
     "status": "completed"
    },
    "tags": []
   },
   "source": [
    "# Question 4\n",
    "\n",
    "You work for a company that provides data services.  For \\\\$100/month, your company provides 15 gigabytes (GB) of data.  Then, any additional data is billed at \\\\$0.10/MB (or \\\\$100/GB, since 1,000 MB are in 1 GB).\n",
    "\n",
    "Use the next code cell to write a function `get_phone_bill()` that takes as input:\n",
    "- `gb` = number of GB that the customer used in a month\n",
    "\n",
    "It should return the customer's total phone bill.\n",
    "\n",
    "For instance:\n",
    "- A customer who uses 10 GB of data in one month is billed only \\\\$100, since the usage stayed under 15 GB.  In other words, `get_phone_bill(10)` should return `100`.\n",
    "- A customer who uses 15.1 GB (or 15 GB + 100 MB) of data in one month has gone over by .1 GB, so they must pay \\\\$100 (cost of plan), plus \\\\$0.10 * 100 = \\\\$10, for a total bill of \\\\$110.  In other words, `get_phone_bill(15.1)` should return `110`.\n",
    "\n",
    "Do not round your answer."
   ]
  },
  {
   "cell_type": "code",
   "execution_count": 8,
   "id": "fb41bd6d",
   "metadata": {
    "execution": {
     "iopub.execute_input": "2022-06-29T03:46:33.214030Z",
     "iopub.status.busy": "2022-06-29T03:46:33.213334Z",
     "iopub.status.idle": "2022-06-29T03:46:33.221641Z",
     "shell.execute_reply": "2022-06-29T03:46:33.220902Z"
    },
    "papermill": {
     "duration": 0.020947,
     "end_time": "2022-06-29T03:46:33.223563",
     "exception": false,
     "start_time": "2022-06-29T03:46:33.202616",
     "status": "completed"
    },
    "tags": []
   },
   "outputs": [
    {
     "data": {
      "application/javascript": [
       "parent.postMessage({\"jupyterEvent\": \"custom.exercise_interaction\", \"data\": {\"outcomeType\": 1, \"valueTowardsCompletion\": 0.2, \"interactionType\": 1, \"questionType\": 2, \"questionId\": \"4_GetPhoneBill\", \"learnToolsVersion\": \"0.3.4\", \"failureMessage\": \"\", \"exceptionClass\": \"\", \"trace\": \"\"}}, \"*\")"
      ],
      "text/plain": [
       "<IPython.core.display.Javascript object>"
      ]
     },
     "metadata": {},
     "output_type": "display_data"
    },
    {
     "data": {
      "text/markdown": [
       "<span style=\"color:#33cc33\">Correct</span>"
      ],
      "text/plain": [
       "Correct"
      ]
     },
     "metadata": {},
     "output_type": "display_data"
    }
   ],
   "source": [
    "# TODO: Edit the function to return the correct bill for different\n",
    "# values of GB\n",
    "def get_phone_bill(gb):\n",
    "    if gb <= 15:\n",
    "        bill = 100\n",
    "    elif gb > 15:\n",
    "        bill = 100 + (gb - 15) * 100\n",
    "    return bill\n",
    "\n",
    "# Check your answer\n",
    "q4.check()"
   ]
  },
  {
   "cell_type": "code",
   "execution_count": 9,
   "id": "bba41b7a",
   "metadata": {
    "execution": {
     "iopub.execute_input": "2022-06-29T03:46:33.245075Z",
     "iopub.status.busy": "2022-06-29T03:46:33.244297Z",
     "iopub.status.idle": "2022-06-29T03:46:33.251716Z",
     "shell.execute_reply": "2022-06-29T03:46:33.250745Z"
    },
    "papermill": {
     "duration": 0.020646,
     "end_time": "2022-06-29T03:46:33.253812",
     "exception": false,
     "start_time": "2022-06-29T03:46:33.233166",
     "status": "completed"
    },
    "tags": []
   },
   "outputs": [
    {
     "data": {
      "application/javascript": [
       "parent.postMessage({\"jupyterEvent\": \"custom.exercise_interaction\", \"data\": {\"interactionType\": 3, \"questionType\": 2, \"questionId\": \"4_GetPhoneBill\", \"learnToolsVersion\": \"0.3.4\", \"valueTowardsCompletion\": 0.0, \"failureMessage\": \"\", \"exceptionClass\": \"\", \"trace\": \"\", \"outcomeType\": 4}}, \"*\")"
      ],
      "text/plain": [
       "<IPython.core.display.Javascript object>"
      ]
     },
     "metadata": {},
     "output_type": "display_data"
    },
    {
     "data": {
      "text/markdown": [
       "<span style=\"color:#33cc99\">Solution:</span> \n",
       "```python\n",
       "def get_phone_bill(gb):\n",
       "    if gb <= 15:\n",
       "        bill = 100\n",
       "    else:\n",
       "        bill = 100 + (gb - 15) * 100\n",
       "    return bill\n",
       "\n",
       "```"
      ],
      "text/plain": [
       "Solution: \n",
       "```python\n",
       "def get_phone_bill(gb):\n",
       "    if gb <= 15:\n",
       "        bill = 100\n",
       "    else:\n",
       "        bill = 100 + (gb - 15) * 100\n",
       "    return bill\n",
       "\n",
       "```"
      ]
     },
     "metadata": {},
     "output_type": "display_data"
    }
   ],
   "source": [
    "# Uncomment to see a hint\n",
    "#q4.hint()\n",
    "\n",
    "# Uncomment to see the solution\n",
    "q4.solution()"
   ]
  },
  {
   "cell_type": "markdown",
   "id": "361e44a8",
   "metadata": {
    "papermill": {
     "duration": 0.010038,
     "end_time": "2022-06-29T03:46:33.273882",
     "exception": false,
     "start_time": "2022-06-29T03:46:33.263844",
     "status": "completed"
    },
    "tags": []
   },
   "source": [
    "# 🌶️ Question 5\n",
    "\n",
    "In Mexico, foods and beverages that are high in saturated fat, trans fat, sugar, sodium, and/or calories appear with warning labels that are designed to help consumers make healthy food choices.\n",
    "\n",
    "For instance, the [box of cookies](https://world.openfoodfacts.org/product/7501000673209/florentinas-gamesa) in the image below appears with two labels (in the upper right corner):\n",
    "- EXCESO CALORÍAS (in English, EXCESS CALORIES)\n",
    "- EXCESO AZÚCARES (in English, EXCESS SUGAR)\n",
    "\n",
    "<center><img src=\"https://i.imgur.com/VXYKHnM.png\" alt=\"drawing\" width=\"500\"/></center>\n",
    "\n",
    "In this question, you'll work with a function `get_labels()` that takes the nutritional details about a food item and prints the needed warning labels.  This function takes several inputs:\n",
    "- `food_type` = one of `\"solid\"` or `\"liquid\"`\n",
    "- `serving_size` = size of one serving (if solid, in grams; if liquid, in milliliters)\n",
    "- `calories_per_serving` = calories in one serving\n",
    "- `saturated_fat_g` = grams of saturated fat in one serving\n",
    "- `trans_fat_g` = grams of trans fat in one serving\n",
    "- `sodium_mg` = mg of sodium in one serving\n",
    "- `sugars_g` = grams of sugar in one serving\n",
    "\n",
    "Note that some of the code here should feel unfamiliar to you, since we have not shared the details of how some of the functions like `excess_sugar()` or `excess_saturated_fat()` work.  But at a high level, these are functions that return a value of `True` if the food is deemed to have an excess of sugar or saturated fat, respectively.  These functions are used within the `get_labels()` function, and whenever there is an excess (of sugar or saturated fat, but also of trans fat, sodium, or calories), it prints the corresponding label."
   ]
  },
  {
   "cell_type": "code",
   "execution_count": 10,
   "id": "0f9ed85e",
   "metadata": {
    "execution": {
     "iopub.execute_input": "2022-06-29T03:46:33.298694Z",
     "iopub.status.busy": "2022-06-29T03:46:33.298094Z",
     "iopub.status.idle": "2022-06-29T03:46:33.306439Z",
     "shell.execute_reply": "2022-06-29T03:46:33.305584Z"
    },
    "papermill": {
     "duration": 0.024434,
     "end_time": "2022-06-29T03:46:33.308778",
     "exception": false,
     "start_time": "2022-06-29T03:46:33.284344",
     "status": "completed"
    },
    "tags": []
   },
   "outputs": [],
   "source": [
    "# import functions needed to make get_labels work\n",
    "from learntools.intro_to_programming.ex4q5 import excess_sugar, excess_saturated_fat, excess_trans_fat, excess_sodium, excess_calories\n",
    "\n",
    "def get_labels(food_type, serving_size, calories_per_serving, saturated_fat_g, trans_fat_g, sodium_mg, sugars_g):\n",
    "    # Print messages based on findings\n",
    "    if excess_sugar(sugars_g, calories_per_serving) == True:\n",
    "        print(\"EXCESO AZÚCARES / EXCESS SUGAR\")\n",
    "    if excess_saturated_fat(saturated_fat_g, calories_per_serving) == True:\n",
    "        print(\"EXCESO GRASAS SATURADAS / EXCESS SATURATED FAT\")\n",
    "    if excess_trans_fat(trans_fat_g, calories_per_serving) == True:\n",
    "        print(\"EXCESO GRASAS TRANS / EXCESS TRANS FAT\")\n",
    "    if excess_sodium(calories_per_serving, sodium_mg) == True:\n",
    "        print(\"EXCESO SODIO / EXCESS SODIUM\")\n",
    "    if excess_calories(food_type, calories_per_serving, serving_size) == True:\n",
    "        print(\"EXCESO CALORÍAS / EXCESS CALORIES\")"
   ]
  },
  {
   "cell_type": "markdown",
   "id": "87aa8d7c",
   "metadata": {
    "papermill": {
     "duration": 0.009669,
     "end_time": "2022-06-29T03:46:33.328758",
     "exception": false,
     "start_time": "2022-06-29T03:46:33.319089",
     "status": "completed"
    },
    "tags": []
   },
   "source": [
    "The next code cell demonstrates how to use `get_labels()` to get the warning labels that the food item should contain.  We begin with [bologna](https://world.openfoodfacts.org/product/4099100179378/bologna).  Here is [an image](https://imgur.com/Cfcx72e) with all of the nutritional information.  Note that for this food,\n",
    "- `food_type = \"solid\"` (because bologna is a solid and not a liquid)\n",
    "- `serving_size = 32` (the serving size is 32 grams)\n",
    "- `calories_per_serving = 110` (there are 110 calories per serving)\n",
    "- `saturated_fat_g = 2.5` (there are 2.5 grams of saturated fat per serving)\n",
    "- `trans_fat_g = 0` (there are 0 grams of trans fat per serving)\n",
    "- `sodium_mg = 400` (there are 400 mg of sodium per serving)\n",
    "- `sugars_g = 1` (the nutrition facts say <1g, but we will round it up to 1 gram per serving to be safe)\n",
    "\n",
    "By supplying all of these values to the function, we can print the warning labels."
   ]
  },
  {
   "cell_type": "code",
   "execution_count": 11,
   "id": "780ed523",
   "metadata": {
    "execution": {
     "iopub.execute_input": "2022-06-29T03:46:33.350700Z",
     "iopub.status.busy": "2022-06-29T03:46:33.350102Z",
     "iopub.status.idle": "2022-06-29T03:46:33.355056Z",
     "shell.execute_reply": "2022-06-29T03:46:33.353829Z"
    },
    "papermill": {
     "duration": 0.018746,
     "end_time": "2022-06-29T03:46:33.357300",
     "exception": false,
     "start_time": "2022-06-29T03:46:33.338554",
     "status": "completed"
    },
    "tags": []
   },
   "outputs": [
    {
     "name": "stdout",
     "output_type": "stream",
     "text": [
      "EXCESO GRASAS SATURADAS / EXCESS SATURATED FAT\n",
      "EXCESO SODIO / EXCESS SODIUM\n",
      "EXCESO CALORÍAS / EXCESS CALORIES\n"
     ]
    }
   ],
   "source": [
    "# bologna https://world.openfoodfacts.org/product/4099100179378/bologna\n",
    "get_labels(\"solid\", 32, 110, 2.5, 0, 400, 1)"
   ]
  },
  {
   "cell_type": "markdown",
   "id": "c57cf381",
   "metadata": {
    "papermill": {
     "duration": 0.009597,
     "end_time": "2022-06-29T03:46:33.376910",
     "exception": false,
     "start_time": "2022-06-29T03:46:33.367313",
     "status": "completed"
    },
    "tags": []
   },
   "source": [
    "This bologna has three labels, printed in the output above.\n",
    "\n",
    "For the rest of this question, you will use the same `get_labels()` function to determine the labels for more foods.  This question is designed to help you get practice with feeling comfortable with code that other people have written, and where you don't have time to review every single line of code before interacting with it.  For instance, when you take the [Intro to Machine Learning course](http://www.kaggle.com/learn/intro-to-machine-learning), you'll work with a Python package called \"scikit-learn\", which is a large collection of code that you'll learn how to run without reviewing all of the code in detail (as it would take too long, and you can trust that it was implemented correctly).\n",
    "\n",
    "In general, as you continue coding in Python, you will often be running code that other people have written.  This is common practice for advanced programmers.\n",
    "\n",
    "In the next code cell, fill in the values for [this cereal](https://world.openfoodfacts.org/product/7501008023624/zucaritas-kellogg-s).  Here is [an image](https://imgur.com/a/MUxzHVU) with all of the nutritional information.\n",
    "\n",
    "**Note**: running the line of code below as-is will return an error.  You have to fill in the nutritional values first."
   ]
  },
  {
   "cell_type": "code",
   "execution_count": 12,
   "id": "d0b3b884",
   "metadata": {
    "execution": {
     "iopub.execute_input": "2022-06-29T03:46:33.399162Z",
     "iopub.status.busy": "2022-06-29T03:46:33.398289Z",
     "iopub.status.idle": "2022-06-29T03:46:33.403839Z",
     "shell.execute_reply": "2022-06-29T03:46:33.402784Z"
    },
    "papermill": {
     "duration": 0.019532,
     "end_time": "2022-06-29T03:46:33.406525",
     "exception": false,
     "start_time": "2022-06-29T03:46:33.386993",
     "status": "completed"
    },
    "tags": []
   },
   "outputs": [
    {
     "name": "stdout",
     "output_type": "stream",
     "text": [
      "EXCESO AZÚCARES / EXCESS SUGAR\n",
      "EXCESO SODIO / EXCESS SODIUM\n",
      "EXCESO CALORÍAS / EXCESS CALORIES\n"
     ]
    }
   ],
   "source": [
    "# zucaritas cereal https://world.openfoodfacts.org/product/7501008023624/zucaritas-kellogg-s\n",
    "# TODO: Uncomment the line below, fill in the values, and run the function\n",
    "# need food_type,serving_size,calories_per_serving,saturated_fat_g,trans_fat_g, sodium_mg,sugars_g\n",
    "\n",
    "get_labels('solid', 40, 150, 0, 0, 150, 16)"
   ]
  },
  {
   "cell_type": "markdown",
   "id": "7e28f580",
   "metadata": {
    "papermill": {
     "duration": 0.009597,
     "end_time": "2022-06-29T03:46:33.426078",
     "exception": false,
     "start_time": "2022-06-29T03:46:33.416481",
     "status": "completed"
    },
    "tags": []
   },
   "source": [
    "Next, try [these mozzarella sticks](https://world-es.openfoodfacts.org/producto/0062325540104/mozzarella-cheese-sticks).  Here is [an image](https://imgur.com/rcdB7VH) with all of the nutritional information."
   ]
  },
  {
   "cell_type": "code",
   "execution_count": 13,
   "id": "c66053c5",
   "metadata": {
    "execution": {
     "iopub.execute_input": "2022-06-29T03:46:33.448054Z",
     "iopub.status.busy": "2022-06-29T03:46:33.446827Z",
     "iopub.status.idle": "2022-06-29T03:46:33.453338Z",
     "shell.execute_reply": "2022-06-29T03:46:33.452358Z"
    },
    "papermill": {
     "duration": 0.020048,
     "end_time": "2022-06-29T03:46:33.455856",
     "exception": false,
     "start_time": "2022-06-29T03:46:33.435808",
     "status": "completed"
    },
    "tags": []
   },
   "outputs": [
    {
     "name": "stdout",
     "output_type": "stream",
     "text": [
      "EXCESO GRASAS SATURADAS / EXCESS SATURATED FAT\n",
      "EXCESO GRASAS TRANS / EXCESS TRANS FAT\n",
      "EXCESO SODIO / EXCESS SODIUM\n",
      "EXCESO CALORÍAS / EXCESS CALORIES\n"
     ]
    }
   ],
   "source": [
    "# mozzarella sticks https://world-es.openfoodfacts.org/producto/0062325540104/mozzarella-cheese-sticks\n",
    "# TODO: Uncomment the line below, fill in the values, and run the function\n",
    "# need food_type,serving_size,calories_per_serving,saturated_fat_g,trans_fat_g, sodium_mg,sugars_g\n",
    "\n",
    "get_labels('solid', 21, 68, 3, .2, 208, 0)"
   ]
  },
  {
   "cell_type": "markdown",
   "id": "e6d80c95",
   "metadata": {
    "papermill": {
     "duration": 0.009659,
     "end_time": "2022-06-29T03:46:33.476313",
     "exception": false,
     "start_time": "2022-06-29T03:46:33.466654",
     "status": "completed"
    },
    "tags": []
   },
   "source": [
    "Feel free to skip to the end of the notebook now and run `q5.check()` to complete the exercise.  If you want to try more foods, \n",
    "- try [these cookies](https://world.openfoodfacts.org/product/0069700118545/biscuits-au-sucre-pretraches).  Here is [an image](https://imgur.com/2Bc271o) with all of the nutritional information.\n",
    "- try [this soda](https://world-es.openfoodfacts.org/producto/0078000113464/orange-soda-sunkist).  Here is [an image](https://imgur.com/RsBYa8E) with all of the nutritional information.\n",
    "\n",
    "Use the two code cells below for this."
   ]
  },
  {
   "cell_type": "code",
   "execution_count": 14,
   "id": "dc67fa78",
   "metadata": {
    "execution": {
     "iopub.execute_input": "2022-06-29T03:46:33.498407Z",
     "iopub.status.busy": "2022-06-29T03:46:33.497497Z",
     "iopub.status.idle": "2022-06-29T03:46:33.502881Z",
     "shell.execute_reply": "2022-06-29T03:46:33.501826Z"
    },
    "papermill": {
     "duration": 0.019845,
     "end_time": "2022-06-29T03:46:33.506059",
     "exception": false,
     "start_time": "2022-06-29T03:46:33.486214",
     "status": "completed"
    },
    "tags": []
   },
   "outputs": [
    {
     "name": "stdout",
     "output_type": "stream",
     "text": [
      "EXCESO AZÚCARES / EXCESS SUGAR\n",
      "EXCESO GRASAS SATURADAS / EXCESS SATURATED FAT\n",
      "EXCESO CALORÍAS / EXCESS CALORIES\n"
     ]
    }
   ],
   "source": [
    "# pillsbury cookies https://world.openfoodfacts.org/product/0069700118545/biscuits-au-sucre-pretraches\n",
    "# TODO: Uncomment the line below, fill in the values, and run the function\n",
    "# need food_type,serving_size,calories_per_serving,saturated_fat_g,trans_fat_g, sodium_mg,sugars_g\n",
    "\n",
    "get_labels('solid', 3, 120, 1.5, .1, 110, 9)"
   ]
  },
  {
   "cell_type": "code",
   "execution_count": 15,
   "id": "63310ea4",
   "metadata": {
    "execution": {
     "iopub.execute_input": "2022-06-29T03:46:33.533404Z",
     "iopub.status.busy": "2022-06-29T03:46:33.532811Z",
     "iopub.status.idle": "2022-06-29T03:46:33.537753Z",
     "shell.execute_reply": "2022-06-29T03:46:33.536633Z"
    },
    "papermill": {
     "duration": 0.022397,
     "end_time": "2022-06-29T03:46:33.541334",
     "exception": false,
     "start_time": "2022-06-29T03:46:33.518937",
     "status": "completed"
    },
    "tags": []
   },
   "outputs": [
    {
     "name": "stdout",
     "output_type": "stream",
     "text": [
      "EXCESO AZÚCARES / EXCESS SUGAR\n",
      "EXCESO CALORÍAS / EXCESS CALORIES\n"
     ]
    }
   ],
   "source": [
    "# sunkist orange soda https://world-es.openfoodfacts.org/producto/0078000113464/orange-soda-sunkist\n",
    "# TODO: Uncomment the line below, fill in the values, and run the function\n",
    "# need food_type,serving_size,calories_per_serving,saturated_fat_g,trans_fat_g, sodium_mg,sugars_g\n",
    "\n",
    "get_labels('liquid', 6, 160, 0, 0, 65, 44)"
   ]
  },
  {
   "cell_type": "markdown",
   "id": "bf5c659c",
   "metadata": {
    "papermill": {
     "duration": 0.009897,
     "end_time": "2022-06-29T03:46:33.562023",
     "exception": false,
     "start_time": "2022-06-29T03:46:33.552126",
     "status": "completed"
    },
    "tags": []
   },
   "source": [
    "Once you have finished investigating the food items in this question, run the final code cell to get credit for completing this problem."
   ]
  },
  {
   "cell_type": "code",
   "execution_count": 16,
   "id": "00a32bbb",
   "metadata": {
    "execution": {
     "iopub.execute_input": "2022-06-29T03:46:33.584774Z",
     "iopub.status.busy": "2022-06-29T03:46:33.583934Z",
     "iopub.status.idle": "2022-06-29T03:46:33.593322Z",
     "shell.execute_reply": "2022-06-29T03:46:33.592436Z"
    },
    "papermill": {
     "duration": 0.022887,
     "end_time": "2022-06-29T03:46:33.595522",
     "exception": false,
     "start_time": "2022-06-29T03:46:33.572635",
     "status": "completed"
    },
    "tags": []
   },
   "outputs": [
    {
     "data": {
      "application/javascript": [
       "parent.postMessage({\"jupyterEvent\": \"custom.exercise_interaction\", \"data\": {\"outcomeType\": 1, \"valueTowardsCompletion\": 0.2, \"interactionType\": 1, \"questionType\": 2, \"questionId\": \"5_GetLabels\", \"learnToolsVersion\": \"0.3.4\", \"failureMessage\": \"\", \"exceptionClass\": \"\", \"trace\": \"\"}}, \"*\")"
      ],
      "text/plain": [
       "<IPython.core.display.Javascript object>"
      ]
     },
     "metadata": {},
     "output_type": "display_data"
    },
    {
     "data": {
      "text/markdown": [
       "<span style=\"color:#33cc33\">Once you have determined the labels for all of the food items, you're ready to move on to the next lesson!</span>"
      ],
      "text/plain": [
       "Once you have determined the labels for all of the food items, you're ready to move on to the next lesson!"
      ]
     },
     "metadata": {},
     "output_type": "display_data"
    }
   ],
   "source": [
    "# Get credit for completing the problem\n",
    "q5.check()"
   ]
  },
  {
   "cell_type": "markdown",
   "id": "1ad89889",
   "metadata": {
    "papermill": {
     "duration": 0.010308,
     "end_time": "2022-06-29T03:46:33.616529",
     "exception": false,
     "start_time": "2022-06-29T03:46:33.606221",
     "status": "completed"
    },
    "tags": []
   },
   "source": [
    "# Keep going\n",
    "\n",
    "Continue to the next lesson to **[learn about Python lists](https://www.kaggle.com/alexisbcook/intro-to-lists)**."
   ]
  },
  {
   "cell_type": "markdown",
   "id": "83bdd95a",
   "metadata": {
    "papermill": {
     "duration": 0.010105,
     "end_time": "2022-06-29T03:46:33.637236",
     "exception": false,
     "start_time": "2022-06-29T03:46:33.627131",
     "status": "completed"
    },
    "tags": []
   },
   "source": [
    "---\n",
    "\n",
    "\n",
    "\n",
    "\n",
    "*Have questions or comments? Visit the [course discussion forum](https://www.kaggle.com/learn/intro-to-programming/discussion) to chat with other learners.*"
   ]
  }
 ],
 "metadata": {
  "kernelspec": {
   "display_name": "Python 3",
   "language": "python",
   "name": "python3"
  },
  "language_info": {
   "codemirror_mode": {
    "name": "ipython",
    "version": 3
   },
   "file_extension": ".py",
   "mimetype": "text/x-python",
   "name": "python",
   "nbconvert_exporter": "python",
   "pygments_lexer": "ipython3",
   "version": "3.7.12"
  },
  "papermill": {
   "default_parameters": {},
   "duration": 11.389513,
   "end_time": "2022-06-29T03:46:34.268728",
   "environment_variables": {},
   "exception": null,
   "input_path": "__notebook__.ipynb",
   "output_path": "__notebook__.ipynb",
   "parameters": {},
   "start_time": "2022-06-29T03:46:22.879215",
   "version": "2.3.4"
  }
 },
 "nbformat": 4,
 "nbformat_minor": 5
}
